{
  "cells": [
    {
      "cell_type": "markdown",
      "metadata": {
        "id": "LADjuBArQ2Pg"
      },
      "source": [
        "resnet effnetb3 dene sadece 2024\n",
        "\n",
        "only validate 2024 data\n",
        "\n",
        "loss değiştir\n",
        "\n",
        "farklı img_size ile model eğitip ensemble\n",
        "\n",
        "2018-2019-2024 verileriyle egitilmis effnetb0 tabular modele ekle\n"
      ]
    },
    {
      "cell_type": "code",
      "execution_count": null,
      "metadata": {
        "colab": {
          "base_uri": "https://localhost:8080/"
        },
        "id": "1LRjDCIgPphW",
        "outputId": "3d7563a7-0e03-4d0e-e332-766ac24c61bb"
      },
      "outputs": [],
      "source": [
        "from google.colab import drive\n",
        "drive.mount('/content/drive')"
      ]
    },
    {
      "cell_type": "code",
      "execution_count": null,
      "metadata": {
        "id": "VYxwylS8QCgu"
      },
      "outputs": [],
      "source": [
        "!pip install kaggle -q"
      ]
    },
    {
      "cell_type": "code",
      "execution_count": null,
      "metadata": {
        "colab": {
          "base_uri": "https://localhost:8080/"
        },
        "id": "ush7-ekPQKhf",
        "outputId": "b059d54d-3463-422c-a8a7-6d27e0ce42ba"
      },
      "outputs": [],
      "source": [
        "!pip install torcheval -q"
      ]
    },
    {
      "cell_type": "code",
      "execution_count": null,
      "metadata": {
        "id": "MG9d3Y-VQME9"
      },
      "outputs": [],
      "source": [
        "from google.colab import files"
      ]
    },
    {
      "cell_type": "code",
      "execution_count": null,
      "metadata": {
        "id": "t805-RKvQOi8"
      },
      "outputs": [],
      "source": [
        "!mkdir -p ~/.kaggle\n",
        "!cp kaggle.json ~/.kaggle/\n",
        "!chmod 600 ~/.kaggle/kaggle.json"
      ]
    },
    {
      "cell_type": "code",
      "execution_count": null,
      "metadata": {
        "collapsed": true,
        "id": "PNOHVcbzQTGF"
      },
      "outputs": [],
      "source": [
        "# !kaggle datasets download -d nischaydnk/isic-2018-jpg-256x256-resized\n",
        "# !kaggle datasets download -d nischaydnk/isic-2019-jpg-256x256-resized\n",
        "# !mkdir -p ./data/isic-2018-256x256\n",
        "# !mkdir -p ./data/isic-2019-256x256\n",
        "\n",
        "# !unzip isic-2018-jpg-256x256-resized.zip -d ./data/isic-2018-256x256\n",
        "# !unzip isic-2019-jpg-256x256-resized.zip -d ./data/isic-2019-256x256\n",
        "\n",
        "# !ls ./data/isic-2018-256x256\n",
        "# !ls ./data/isic-2019-256x256\n"
      ]
    },
    {
      "cell_type": "code",
      "execution_count": null,
      "metadata": {
        "colab": {
          "base_uri": "https://localhost:8080/"
        },
        "id": "kZxruYJOozaT",
        "outputId": "ac2ec12d-7f19-4195-b892-839e4058e8ff"
      },
      "outputs": [],
      "source": [
        "!kaggle --version"
      ]
    },
    {
      "cell_type": "code",
      "execution_count": null,
      "metadata": {
        "colab": {
          "base_uri": "https://localhost:8080/"
        },
        "id": "tB8kPktZqKwl",
        "outputId": "f699a2f5-cac3-474f-a0d7-b4195634f36f"
      },
      "outputs": [],
      "source": [
        "# !kaggle competitions download -c isic-2024-challenge"
      ]
    },
    {
      "cell_type": "code",
      "execution_count": null,
      "metadata": {
        "colab": {
          "base_uri": "https://localhost:8080/"
        },
        "id": "ZEh-fPQ0Qsxz",
        "outputId": "2d800ba7-adca-47d7-d9c9-ad5d4b71ba14"
      },
      "outputs": [],
      "source": [
        "# !mkdir -p ./data/isic-2024-challenge\n",
        "# !unzip isic-2024-challenge.zip -d ./data/isic-2024-challenge\n",
        "# !ls ./data/isic-2024-challenge"
      ]
    },
    {
      "cell_type": "code",
      "execution_count": null,
      "metadata": {
        "colab": {
          "base_uri": "https://localhost:8080/"
        },
        "id": "KT_4T-LvRytR",
        "outputId": "211fe663-8bd6-44b5-b259-bdbe336d6df7"
      },
      "outputs": [],
      "source": [
        "!pip install timm -q"
      ]
    },
    {
      "cell_type": "code",
      "execution_count": null,
      "metadata": {
        "id": "mp6fdOkl_X0A"
      },
      "outputs": [],
      "source": [
        "!pip install albumentations -q"
      ]
    },
    {
      "cell_type": "code",
      "execution_count": null,
      "metadata": {
        "id": "lYfpJHWQQ0py"
      },
      "outputs": [],
      "source": [
        "import os\n",
        "import gc\n",
        "import cv2\n",
        "import math\n",
        "import copy\n",
        "import time\n",
        "import random\n",
        "import glob\n",
        "from matplotlib import pyplot as plt\n",
        "\n",
        "# For data manipulation\n",
        "import numpy as np\n",
        "import pandas as pd\n",
        "\n",
        "# Pytorch Imports\n",
        "import torch\n",
        "import torch.nn as nn\n",
        "import torch.optim as optim\n",
        "import torch.nn.functional as F\n",
        "from torch.optim import lr_scheduler\n",
        "from torch.utils.data import Dataset, DataLoader\n",
        "from torch.cuda import amp\n",
        "import torchvision\n",
        "from torcheval.metrics.functional import binary_auroc\n",
        "\n",
        "# import torch_xla\n",
        "# import torch_xla.core.xla_model as xm\n",
        "# from torch_xla.distributed.parallel_loader import MpDeviceLoader\n",
        "\n",
        "\n",
        "# Utils\n",
        "import joblib\n",
        "from tqdm import tqdm\n",
        "from collections import defaultdict\n",
        "\n",
        "# Sklearn Imports\n",
        "from sklearn.preprocessing import LabelEncoder\n",
        "from sklearn.model_selection import StratifiedKFold, StratifiedGroupKFold\n",
        "\n",
        "# For Image Models\n",
        "import timm\n",
        "\n",
        "# Albumentations for augmentations\n",
        "import albumentations as A\n",
        "from albumentations.pytorch import ToTensorV2\n",
        "\n",
        "# # For colored terminal text\n",
        "# from colorama import Fore, Back, Style\n",
        "# b_ = Fore.BLUE\n",
        "# sr_ = Style.RESET_ALL\n",
        "\n",
        "import warnings\n",
        "warnings.filterwarnings(\"ignore\")\n",
        "\n",
        "# For descriptive error messages\n",
        "os.environ['CUDA_LAUNCH_BLOCKING'] = \"1\""
      ]
    },
    {
      "cell_type": "code",
      "execution_count": null,
      "metadata": {
        "colab": {
          "base_uri": "https://localhost:8080/"
        },
        "id": "_Fe3U1q-R1_z",
        "outputId": "a6b997cc-2f26-48c0-ab6e-b7d2f392127a"
      },
      "outputs": [],
      "source": [
        "#!/bin/bash\n",
        "!kaggle models instances versions download timm/tf-efficientnet/pyTorch/tf-efficientnet-b2/1"
      ]
    },
    {
      "cell_type": "code",
      "execution_count": null,
      "metadata": {
        "colab": {
          "base_uri": "https://localhost:8080/"
        },
        "id": "ZEJsYxBEX-81",
        "outputId": "25d8aa8c-62db-48dd-8858-56ffc402b229"
      },
      "outputs": [],
      "source": [
        "!mkdir -p ./data/model\n",
        "!tar -xzvf tf-efficientnet.tar.gz -C ./data/model\n",
        "!ls ./data/model"
      ]
    },
    {
      "cell_type": "code",
      "execution_count": null,
      "metadata": {
        "id": "oTxdQG4GRC2z"
      },
      "outputs": [],
      "source": [
        "CONFIG = {\n",
        "    \"seed\": 42,\n",
        "    \"epochs\": 15,\n",
        "    \"img_size\": 336,\n",
        "    \"model_name\": \"eva02_small_patch14_336.mim_in22k_ft_in1k\",\n",
        "    # \"model_name\": \"tf_efficientnet_b2_ns\",\n",
        "    # \"checkpoint_path\" : '/content/data/model/tf_efficientnet_b0_aa-827b6e33.pth',\n",
        "    # \"checkpoint_path\" : '/content/data/model/tf_efficientnet_b3_aa-84b4657e.pth',\n",
        "    # \"checkpoint_path\": '/content/data/model/tf_efficientnet_b2_aa-60c94f97.pth',\n",
        "    \"train_batch_size\": 64,\n",
        "    \"valid_batch_size\": 64,\n",
        "    \"learning_rate\": 1e-4,\n",
        "    \"scheduler\": 'CosineAnnealingLR', ## warmup + cosine scheduler denenebilir. 1.olan notebook\n",
        "    \"min_lr\": 1e-6,\n",
        "    \"T_max\": 14,\n",
        "    \"T_0\": 14,\n",
        "    \"weight_decay\": 1e-6,\n",
        "    \"fold\" : 0,\n",
        "    \"n_fold\": 5,\n",
        "    \"n_accumulate\": 1,\n",
        "    \"device\": torch.device(\"cuda:0\" if torch.cuda.is_available() else \"cpu\"),\n",
        "}\n",
        "\n",
        "EFFNET = False\n",
        "RESNET = False\n",
        "EVA02 = True\n",
        "RESNEST = False\n",
        "RESNEXT = False\n",
        "EDGENEXT = False"
      ]
    },
    {
      "cell_type": "code",
      "execution_count": null,
      "metadata": {
        "id": "xHCbm9heSQNt"
      },
      "outputs": [],
      "source": [
        "def set_seed(seed=42):\n",
        "    '''Sets the seed of the entire notebook so results are the same every time we run.\n",
        "    This is for REPRODUCIBILITY.'''\n",
        "    np.random.seed(seed)\n",
        "    torch.manual_seed(seed)\n",
        "    torch.cuda.manual_seed(seed)\n",
        "    # When running on the CuDNN backend, two further options must be set\n",
        "    torch.backends.cudnn.deterministic = True\n",
        "    torch.backends.cudnn.benchmark = False\n",
        "    # Set a fixed value for the hash seed\n",
        "    os.environ['PYTHONHASHSEED'] = str(seed)\n",
        "\n",
        "set_seed(CONFIG['seed'])"
      ]
    },
    {
      "cell_type": "code",
      "execution_count": null,
      "metadata": {
        "id": "UCM1Vv1MSiAY"
      },
      "outputs": [],
      "source": [
        "# ROOT_DIR = \"/kaggle/input/isic-2024-challenge\"\n",
        "TRAIN_DIR = '/content/data/isic-2024-challenge/train-image/image'\n",
        "# ISIC_2018_256 = '/content/data/isic-2018-256x256/train-image/image'\n",
        "# ISIC_2019_256 = '/content/data/isic-2019-256x256/train-image/image'"
      ]
    },
    {
      "cell_type": "code",
      "execution_count": null,
      "metadata": {
        "id": "-Nx8OHcJS9Wz"
      },
      "outputs": [],
      "source": [
        "def get_file_path(image_id):\n",
        "    potential_paths = [\n",
        "        os.path.join(TRAIN_DIR, f\"{image_id}.jpg\")\n",
        "        # os.path.join(ISIC_2018_256, f\"{image_id}.jpg\"),\n",
        "        # os.path.join(ISIC_2019_256, f\"{image_id}.jpg\")\n",
        "    ]\n",
        "    for path in potential_paths:\n",
        "        if os.path.exists(path):\n",
        "            return path\n",
        "    return None"
      ]
    },
    {
      "cell_type": "code",
      "execution_count": null,
      "metadata": {
        "id": "1M27KYH2S-ri"
      },
      "outputs": [],
      "source": [
        "train_images = sorted(glob.glob(f\"{TRAIN_DIR}/*.jpg\"))\n",
        "# train_2018_images = sorted(glob.glob(f\"{ISIC_2018_256}/*.jpg\"))\n",
        "# train_2019_images = sorted(glob.glob(f\"{ISIC_2019_256}/*jpg\"))\n",
        "\n",
        "# train_images = train_images + train_2019_images + train_2018_images\n",
        "# train_images = train_images + train_2018_images"
      ]
    },
    {
      "cell_type": "markdown",
      "metadata": {},
      "source": [
        "## DOWNSAMPLING THE POSITIVE CLASSES"
      ]
    },
    {
      "cell_type": "code",
      "execution_count": null,
      "metadata": {
        "colab": {
          "base_uri": "https://localhost:8080/"
        },
        "id": "1aqoOG-9S_s6",
        "outputId": "58d94271-578e-4917-eb4d-4fb912e8a589"
      },
      "outputs": [],
      "source": [
        "df = pd.read_csv(\"/content/data/isic-2024-challenge/train-metadata.csv\")\n",
        "df = df[['isic_id', 'patient_id', 'target']]\n",
        "# df['is_ext'] = 0\n",
        "\n",
        "# df_2018 = pd.read_csv('/content/data/isic-2018-256x256/train-metadata.csv')\n",
        "# df_2018 = df_2018[['isic_id', 'patient_id', 'target']]\n",
        "# df_2018['is_ext'] = 1\n",
        "\n",
        "# df_2019 = pd.read_csv('/content/data/isic-2019-256x256/train-metadata.csv')\n",
        "# df_2019 = df_2019[['isic_id', 'patient_id', 'target']]\n",
        "# df_2019['is_ext'] = 1\n",
        "# df = pd.concat([df, df_2019], ignore_index=True)\n",
        "# df = pd.concat([df, df_2018], ignore_index=True)\n",
        "\n",
        "print(\"        df.shape, # of positive cases, # of patients\")\n",
        "print(\"original>\", df.shape, df.target.sum(), df[\"patient_id\"].unique().shape)\n",
        "\n",
        "# df_positive = df[df[\"target\"] == 1].reset_index(drop=True)\n",
        "# df_negative = df[df[\"target\"] == 0].reset_index(drop=True)\n",
        "\n",
        "# df_negative_sample = df_negative.sample(n=df_positive.shape[0] * 20, random_state=42)\n",
        "# df = pd.concat([df_positive, df_negative_sample]).reset_index(drop=True)\n",
        "\n",
        "\n",
        "# df = pd.concat([df_positive, df_negative.iloc[:df_positive.shape[0]*20, :]])  # positive:negative = 1:20\n",
        "print(\"filtered>\", df.shape, df.target.sum(), df[\"patient_id\"].unique().shape)\n",
        "\n",
        "df['file_path'] = df['isic_id'].apply(get_file_path)\n",
        "\n",
        "df = df[df[\"file_path\"].isin(train_images)].reset_index(drop=True)\n",
        "\n",
        "print(df)"
      ]
    },
    {
      "cell_type": "code",
      "execution_count": null,
      "metadata": {
        "id": "7lTCnOF0TIJu"
      },
      "outputs": [],
      "source": [
        "# df_positive.shape, df_negative.shape, df.shape, df_pos_2.shape, df_neg_2.shape"
      ]
    },
    {
      "cell_type": "code",
      "execution_count": null,
      "metadata": {
        "colab": {
          "base_uri": "https://localhost:8080/"
        },
        "id": "Ah3ztZdoXKyj",
        "outputId": "2889686e-cf1e-4224-c7f6-323d63de7a7e"
      },
      "outputs": [],
      "source": [
        "CONFIG['T_max'] = 8253 * (CONFIG[\"n_fold\"]-1) * CONFIG['epochs'] // CONFIG['train_batch_size'] // CONFIG[\"n_fold\"]\n",
        "CONFIG['T_max']\n",
        "\n",
        "CONFIG['T_0'] = 8253 * (CONFIG[\"n_fold\"]-1) * CONFIG['epochs'] // CONFIG['train_batch_size'] // CONFIG[\"n_fold\"]\n",
        "CONFIG['T_0']\n",
        "\n",
        "# 'T_max': int(cfg['train']['params']['num_epochs']*cfg['train']['params']['steps_per_epoch']), 2nd place\n",
        "# T_max = 4 1.st place"
      ]
    },
    {
      "cell_type": "code",
      "execution_count": null,
      "metadata": {
        "id": "GMQokzFjXMUb"
      },
      "outputs": [],
      "source": [
        "from sklearn.metrics import roc_curve, auc, roc_auc_score\n",
        "import numpy as np\n",
        "import pandas as pd\n",
        "import pandas.api.types\n",
        "\n",
        "def compute_pauc(y_true, y_scores, tpr_threshold=0.80):\n",
        "\n",
        "    v_gt = abs(np.asarray(y_true)-1)\n",
        "\n",
        "    v_pred = -1.0 * np.asarray(y_scores)\n",
        "\n",
        "    max_fpr = abs(1-tpr_threshold)\n",
        "\n",
        "    fpr, tpr, _ = roc_curve(v_gt, v_pred, sample_weight=None)\n",
        "    if max_fpr is None or max_fpr == 1:\n",
        "        return auc(fpr, tpr)\n",
        "\n",
        "    if max_fpr <= 0 or max_fpr > 1:\n",
        "        raise ValueError(\"Expected min_tpr in range [0,1), got: %r\" % tpr_threshold)\n",
        "\n",
        "    stop = np.searchsorted(fpr, max_fpr, \"right\")\n",
        "    x_interp = [fpr[stop - 1], fpr[stop]]\n",
        "    y_interp = [tpr[stop - 1], tpr[stop]]\n",
        "\n",
        "    tpr = np.append(tpr[:stop], np.interp(max_fpr, x_interp, y_interp))\n",
        "    fpr = np.append(fpr[:stop], max_fpr)\n",
        "    partial_auc = auc(fpr, tpr)\n",
        "\n",
        "    return(partial_auc)"
      ]
    },
    {
      "cell_type": "markdown",
      "metadata": {},
      "source": [
        "## CV SETUP TO AVOID LEAKAGE"
      ]
    },
    {
      "cell_type": "code",
      "execution_count": null,
      "metadata": {
        "id": "p1_eeWUKXNZ9"
      },
      "outputs": [],
      "source": [
        "# sgkf = StratifiedGroupKFold(n_splits=CONFIG['n_fold'])\n",
        "\n",
        "# for fold, ( _, val_) in enumerate(sgkf.split(df, df.target,df.patient_id)):\n",
        "#       df.loc[val_ , \"kfold\"] = int(fold)\n",
        "\n",
        "\n",
        "sgfk = StratifiedGroupKFold(n_splits=CONFIG['n_fold'], shuffle=True, random_state=CONFIG['seed'])\n",
        "\n",
        "df[\"kfold\"] = -1\n",
        "\n",
        "for fold, (train_idx, val_idx) in enumerate(sgfk.split(df, df.target, df.patient_id)):\n",
        "    df.loc[val_idx, \"kfold\"] = int(fold)"
      ]
    },
    {
      "cell_type": "code",
      "execution_count": null,
      "metadata": {
        "colab": {
          "base_uri": "https://localhost:8080/",
          "height": 241
        },
        "id": "-c8LqQW29ZmY",
        "outputId": "38ea869c-5c1b-49ca-d6a3-538b550f21f7"
      },
      "outputs": [],
      "source": [
        "df['kfold'].tail()"
      ]
    },
    {
      "cell_type": "markdown",
      "metadata": {},
      "source": [
        "## MODELLING"
      ]
    },
    {
      "cell_type": "code",
      "execution_count": null,
      "metadata": {
        "id": "QmcTaGhlXO1T"
      },
      "outputs": [],
      "source": [
        "class ISICDataset_for_Train(Dataset):\n",
        "    def __init__(self, df, transforms=None):\n",
        "        self.df = df\n",
        "        self.df_positive = df[df[\"target\"] == 1].reset_index(drop=True)\n",
        "        self.df_negative = df[df[\"target\"] == 0].reset_index(drop=True)\n",
        "        self.file_names_positive = self.df_positive['file_path'].values\n",
        "        self.file_names_negative = self.df_negative['file_path'].values\n",
        "        self.targets_positive = self.df_positive['target'].values\n",
        "        self.targets_negative = self.df_negative['target'].values\n",
        "        self.transforms = transforms\n",
        "        print(f\"Length of df_positive: {len(self.df_positive)}\")\n",
        "        print(f\"Length of df_negative: {len(self.df_negative)}\")\n",
        "\n",
        "    def __len__(self):\n",
        "        return len(self.df)\n",
        "\n",
        "    def __getitem__(self, index):\n",
        "        if random.random() >= 0.5:\n",
        "            df = self.df_positive\n",
        "            file_names = self.file_names_positive\n",
        "            targets = self.targets_positive\n",
        "        else:\n",
        "            df = self.df_negative\n",
        "            file_names = self.file_names_negative\n",
        "            targets = self.targets_negative\n",
        "        index = index % df.shape[0]\n",
        "\n",
        "        img_path = file_names[index]\n",
        "        img = cv2.imread(img_path)\n",
        "        img = cv2.cvtColor(img, cv2.COLOR_BGR2RGB)\n",
        "        target = targets[index]\n",
        "\n",
        "        if self.transforms:\n",
        "            img = self.transforms(image=img)[\"image\"]\n",
        "\n",
        "        return {\n",
        "            'image': img,\n",
        "            'target': target\n",
        "        }\n",
        "\n",
        "class ISICDataset(Dataset):\n",
        "    def __init__(self, df, transforms=None):\n",
        "        self.df = df\n",
        "        self.file_names = df['file_path'].values\n",
        "        self.targets = df['target'].values\n",
        "        self.transforms = transforms\n",
        "\n",
        "    def __len__(self):\n",
        "        return len(self.df)\n",
        "\n",
        "    def __getitem__(self, index):\n",
        "        img_path = self.file_names[index]\n",
        "        img = cv2.imread(img_path)\n",
        "        img = cv2.cvtColor(img, cv2.COLOR_BGR2RGB)\n",
        "        target = self.targets[index]\n",
        "\n",
        "        if self.transforms:\n",
        "            img = self.transforms(image=img)[\"image\"]\n",
        "\n",
        "        return {\n",
        "            'image': img,\n",
        "            'target': target\n",
        "        }"
      ]
    },
    {
      "cell_type": "code",
      "execution_count": null,
      "metadata": {
        "id": "AsLiBxghXP4z"
      },
      "outputs": [],
      "source": [
        "data_transforms = {\n",
        "    \"train\": A.Compose([\n",
        "        A.Resize(CONFIG['img_size'], CONFIG['img_size']),\n",
        "\n",
        "        A.Flip(p=0.5),\n",
        "        A.Downscale(p=0.25),\n",
        "        A.RandomRotate90(p=0.5),\n",
        "\n",
        "        A.Transpose(p=0.5),\n",
        "        A.VerticalFlip(p=0.5),\n",
        "        A.HorizontalFlip(p=0.5),\n",
        "\n",
        "        A.OneOf([\n",
        "          A.MotionBlur(blur_limit=5),\n",
        "          A.MedianBlur(blur_limit=5),\n",
        "          A.GaussianBlur(blur_limit=5),\n",
        "          A.GaussNoise(var_limit=(5.0, 30.0)),\n",
        "        ], p=0.7),\n",
        "        A.OneOf([\n",
        "          A.OpticalDistortion(distort_limit=1.0),\n",
        "          A.GridDistortion(num_steps=5, distort_limit=1.),\n",
        "          A.ElasticTransform(alpha=3),\n",
        "        ], p=0.7),\n",
        "\n",
        "        A.CLAHE(clip_limit=4.0, p=0.7),\n",
        "\n",
        "        A.HueSaturationValue(hue_shift_limit=10, sat_shift_limit=20, val_shift_limit=10, p=0.5),\n",
        "\n",
        "        A.CoarseDropout(max_height=int(CONFIG['img_size']*0.375), max_width=int(CONFIG['img_size']*0.375), num_holes=1, p=0.7),\n",
        "\n",
        "        A.ShiftScaleRotate(shift_limit=0.1,\n",
        "                           scale_limit=0.1,\n",
        "                           rotate_limit=15,\n",
        "                           border_mode=0,\n",
        "                           p=0.85),\n",
        "\n",
        "        A.RandomBrightnessContrast(\n",
        "                brightness_limit=(-0.2,0.2),\n",
        "                contrast_limit=(-0.2, 0.2),\n",
        "                p=0.75\n",
        "            ),\n",
        "\n",
        "        A.Normalize(\n",
        "                mean=[0.485, 0.456, 0.406],\n",
        "                std=[0.229, 0.224, 0.225],\n",
        "                max_pixel_value=255.0,\n",
        "                p=1.0\n",
        "            ),\n",
        "\n",
        "        ToTensorV2()], p=1.),\n",
        "\n",
        "    \"valid\": A.Compose([\n",
        "        A.Resize(CONFIG['img_size'], CONFIG['img_size']),\n",
        "        A.Normalize(\n",
        "                mean=[0.485, 0.456, 0.406],\n",
        "                std=[0.229, 0.224, 0.225],\n",
        "                max_pixel_value=255.0,\n",
        "                p=1.0\n",
        "            ),\n",
        "        ToTensorV2()], p=1.)\n",
        "}"
      ]
    },
    {
      "cell_type": "code",
      "execution_count": null,
      "metadata": {
        "id": "bXGPvIkpXRBz"
      },
      "outputs": [],
      "source": [
        "class GeM(nn.Module):\n",
        "    def __init__(self, p=3, eps=1e-6):\n",
        "        super(GeM, self).__init__()\n",
        "        self.p = nn.Parameter(torch.ones(1)*p)\n",
        "        self.eps = eps\n",
        "\n",
        "    def forward(self, x):\n",
        "        return self.gem(x, p=self.p, eps=self.eps)\n",
        "\n",
        "    def gem(self, x, p=3, eps=1e-6):\n",
        "        return F.avg_pool2d(x.clamp(min=eps).pow(p), (x.size(-2), x.size(-1))).pow(1./p)\n",
        "\n",
        "    def __repr__(self):\n",
        "        return self.__class__.__name__ + \\\n",
        "                '(' + 'p=' + '{:.4f}'.format(self.p.data.tolist()[0]) + \\\n",
        "                ', ' + 'eps=' + str(self.eps) + ')'"
      ]
    },
    {
      "cell_type": "code",
      "execution_count": null,
      "metadata": {
        "colab": {
          "base_uri": "https://localhost:8080/",
          "height": 49,
          "referenced_widgets": [
            "0524beee1aca410d88dcd112a3435ee6",
            "3b47fd35873b482fba46c278db9a6690",
            "bd54ba5fc15d4c1cbe1714713fa92fda",
            "0abdea22d7694b178fa81d1cf4ace088",
            "4dcbb38e2491450991b68a55dc6bdc0c",
            "962f54bd7773405baafc181f5f06712f",
            "7da4ba49061a4499aefc13cfd21c0174",
            "90d131c751684e88a82cdaeea599bda3",
            "0855f253c57848c4ba1fdaf48fb4278a",
            "8d9175904b3342ad9019d34c9175a157",
            "0ad09a5f417b4a278c8b1447627e8aac"
          ]
        },
        "id": "0qqYAuOvXSMz",
        "outputId": "1005f755-acf0-4455-c0c4-592e62cb43e3"
      },
      "outputs": [],
      "source": [
        "if EFFNET:\n",
        "    class ISICModel(nn.Module):\n",
        "        def __init__(self, model_name, num_classes=1, pretrained=True, checkpoint_path=None):\n",
        "            super(ISICModel, self).__init__()\n",
        "            self.model = timm.create_model(model_name, pretrained=pretrained, checkpoint_path=checkpoint_path)\n",
        "\n",
        "            in_features = self.model.classifier.in_features\n",
        "            self.model.classifier = nn.Identity()\n",
        "            self.model.global_pool = nn.Identity()\n",
        "            self.pooling = GeM()\n",
        "            self.linear = nn.Linear(in_features, num_classes)\n",
        "            self.sigmoid = nn.Sigmoid()\n",
        "\n",
        "        def forward(self, images):\n",
        "            features = self.model(images)\n",
        "            pooled_features = self.pooling(features).flatten(1)\n",
        "            output = self.sigmoid(self.linear(pooled_features))\n",
        "            return output\n",
        "\n",
        "\n",
        "if EVA02:\n",
        "    class ISICModel(nn.Module):\n",
        "        def __init__(self, model_name, num_classes=1, pretrained=True, checkpoint_path=None):\n",
        "            super(ISICModel, self).__init__()\n",
        "            self.model = timm.create_model(model_name, pretrained=pretrained, checkpoint_path=checkpoint_path)\n",
        "\n",
        "            in_features = self.model.head.in_features\n",
        "            self.model.head = nn.Linear(in_features, num_classes)\n",
        "            self.sigmoid = nn.Sigmoid()\n",
        "\n",
        "        def forward(self, images):\n",
        "            return self.sigmoid(self.model(images))\n",
        "\n",
        "if RESNET:\n",
        "    class ISICModel(nn.Module):\n",
        "        def __init__(self, model_name, num_classes=1, pretrained=True, checkpoint_path=None):\n",
        "            super(ISICModel, self).__init__()\n",
        "            self.model = timm.create_model(model_name, pretrained=pretrained, checkpoint_path=checkpoint_path)\n",
        "\n",
        "            in_features = self.model.fc.in_features\n",
        "            self.model.fc = nn.Linear(in_features, num_classes)\n",
        "            self.sigmoid = nn.Sigmoid()\n",
        "\n",
        "        def forward(self, images):\n",
        "            return self.sigmoid(self.model(images))\n",
        "\n",
        "if EDGENEXT:\n",
        "    class ISICModel(nn.Module):\n",
        "        def __init__(self, model_name, num_classes=1, pretrained=True, checkpoint_path=None):\n",
        "            super(ISICModel, self).__init__()\n",
        "\n",
        "            self.model = timm.create_model(model_name, pretrained=pretrained, num_classes=num_classes, global_pool='avg')\n",
        "\n",
        "            # Modify the classifier head to match the number of output classes\n",
        "            in_features = self.model.get_classifier().in_features\n",
        "            self.model.classifier = nn.Linear(in_features, num_classes)\n",
        "            self.sigmoid = nn.Sigmoid()\n",
        "\n",
        "        def forward(self, images):\n",
        "            return self.sigmoid(self.model(images))\n",
        "\n",
        "if RESNEST:\n",
        "    class ISICModel(nn.Module):\n",
        "        def __init__(self, model_name, num_classes=1, pretrained=True, checkpoint_path=None):\n",
        "            super(ISICModel, self).__init__()\n",
        "\n",
        "            self.model = timm.create_model(model_name, pretrained=pretrained, num_classes=num_classes, global_pool='avg')\n",
        "\n",
        "            # Modify the classifier head to match the number of output classes\n",
        "            in_features = self.model.get_classifier().in_features\n",
        "            self.model.classifier = nn.Linear(in_features, num_classes)\n",
        "            self.sigmoid = nn.Sigmoid()\n",
        "\n",
        "        def forward(self, images):\n",
        "            return self.sigmoid(self.model(images))\n",
        "\n",
        "if RESNEXT:\n",
        "\n",
        "    class ISICModel(nn.Module):\n",
        "        def __init__(self, model_name, num_classes=1, pretrained=True, checkpoint_path=None):\n",
        "            super(ISICModel, self).__init__()\n",
        "            self.model = timm.create_model(model_name, pretrained=pretrained, checkpoint_path=checkpoint_path)\n",
        "\n",
        "            in_features = self.model.fc.in_features\n",
        "            self.model.fc = nn.Linear(in_features, num_classes)\n",
        "            self.sigmoid = nn.Sigmoid()\n",
        "\n",
        "        def forward(self, images):\n",
        "            return self.sigmoid(self.model(images))\n",
        "\n",
        "\n",
        "model = ISICModel(CONFIG['model_name'], pretrained=True)\n",
        "model.to(CONFIG['device']);"
      ]
    },
    {
      "cell_type": "markdown",
      "metadata": {},
      "source": [
        "## FOCAL LOSS AND OTHER ALTERNATIVES FOR HANDLING IMBALANCE"
      ]
    },
    {
      "cell_type": "code",
      "execution_count": null,
      "metadata": {
        "id": "037BEL2vXTNs"
      },
      "outputs": [],
      "source": [
        "# class FocalLoss(nn.Module):\n",
        "#     def __init__(self, alpha=1, gamma=2, logits=False, reduce=True):\n",
        "#         super(FocalLoss, self).__init__()\n",
        "#         self.alpha = alpha\n",
        "#         self.gamma = gamma\n",
        "#         self.logits = logits\n",
        "#         self.reduce = reduce\n",
        "\n",
        "#     def forward(self, inputs, targets):\n",
        "#         if self.logits:\n",
        "#             BCE_loss = F.binary_cross_entropy_with_logits(inputs, targets, reduction='none')\n",
        "#         else:\n",
        "#             BCE_loss = F.binary_cross_entropy(inputs, targets, reduction='none')\n",
        "#         pt = torch.exp(-BCE_loss)\n",
        "#         F_loss = self.alpha * (1-pt)**self.gamma * BCE_loss\n",
        "\n",
        "#         if self.reduce:\n",
        "#             return torch.mean(F_loss)\n",
        "#         else:\n",
        "#             return torch.sum(F_loss)\n",
        "\n",
        "# def criterion(outputs, targets):\n",
        "#     return FocalLoss()(outputs, targets)\n",
        "\n",
        "\n",
        "\n",
        "def criterion(outputs, targets):\n",
        "\n",
        "    ##could try focal loss.\n",
        "\n",
        "    return nn.BCELoss()(outputs, targets)"
      ]
    },
    {
      "cell_type": "code",
      "execution_count": null,
      "metadata": {
        "id": "uWPhAV-RZLGk"
      },
      "outputs": [],
      "source": [
        "def train_one_epoch(model, optimizer, scheduler, dataloader, device, epoch):\n",
        "    model.train()\n",
        "\n",
        "    dataset_size = 0\n",
        "    running_loss = 0.0\n",
        "    running_pauc  = 0.0\n",
        "\n",
        "    all_targets = []\n",
        "    all_outputs = []\n",
        "\n",
        "    bar = tqdm(enumerate(dataloader), total=len(dataloader))\n",
        "    for step, data in bar:\n",
        "        images = data['image'].to(device, dtype=torch.float)\n",
        "        targets = data['target'].to(device, dtype=torch.float)\n",
        "\n",
        "        batch_size = images.size(0)\n",
        "\n",
        "        outputs = model(images).squeeze()\n",
        "        loss = criterion(outputs, targets)\n",
        "        loss = loss / CONFIG['n_accumulate']\n",
        "\n",
        "        loss.backward()\n",
        "\n",
        "        if (step + 1) % CONFIG['n_accumulate'] == 0:\n",
        "            optimizer.step()\n",
        "            optimizer.zero_grad()\n",
        "\n",
        "            if scheduler is not None:\n",
        "                scheduler.step()\n",
        "\n",
        "\n",
        "        running_loss += (loss.item() * batch_size)\n",
        "        dataset_size += batch_size\n",
        "\n",
        "        # all_targets.extend(targets.cpu().detach().numpy())\n",
        "        # all_outputs.extend(outputs.cpu().detach().numpy())\n",
        "\n",
        "        epoch_loss = running_loss / dataset_size\n",
        "\n",
        "        all_targets.extend(targets.cpu().numpy())\n",
        "        all_outputs.extend(outputs.cpu().detach().numpy())\n",
        "\n",
        "        # current_pauc = compute_pauc(targets.cpu().numpy(), outputs.detach().cpu().numpy(), tpr_threshold=0.8)\n",
        "\n",
        "        # running_pauc += (current_pauc * batch_size)\n",
        "        # current_epoch_pauc = running_pauc / dataset_size\n",
        "\n",
        "        # current_pauc = compute_pauc(np.array(all_targets), np.array(all_outputs), tpr_threshold=0.8)\n",
        "\n",
        "        bar.set_postfix(Epoch=epoch, Train_Loss=epoch_loss,\n",
        "                        LR=optimizer.param_groups[0]['lr'])\n",
        "\n",
        "    # Compute partial AUC\n",
        "    # all_targets = np.array(all_targets)\n",
        "    # all_outputs = np.array(all_outputs)\n",
        "    epoch_pauc = compute_pauc(all_targets, all_outputs, tpr_threshold=0.8)\n",
        "\n",
        "    gc.collect()\n",
        "\n",
        "    return epoch_loss, epoch_pauc"
      ]
    },
    {
      "cell_type": "code",
      "execution_count": null,
      "metadata": {
        "id": "JIFJjglNZNpc"
      },
      "outputs": [],
      "source": [
        "@torch.inference_mode()\n",
        "def valid_one_epoch(model, dataloader, device, epoch):\n",
        "    model.eval()\n",
        "\n",
        "    dataset_size = 0\n",
        "    running_loss = 0.0\n",
        "    running_pauc = 0.0\n",
        "\n",
        "    all_targets = []\n",
        "    all_outputs = []\n",
        "\n",
        "    all_targets_non_ext = []\n",
        "    all_outputs_non_ext = []\n",
        "\n",
        "\n",
        "    bar = tqdm(enumerate(dataloader), total=len(dataloader))\n",
        "    for step, data in bar:\n",
        "        images = data['image'].to(device, dtype=torch.float)\n",
        "        targets = data['target'].to(device, dtype=torch.float)\n",
        "\n",
        "        # is_ext = data['is_ext'].to(device)\n",
        "\n",
        "        batch_size = images.size(0)\n",
        "\n",
        "        outputs = model(images).squeeze()\n",
        "        loss = criterion(outputs, targets)\n",
        "\n",
        "        running_loss += (loss.item() * batch_size)\n",
        "        dataset_size += batch_size\n",
        "\n",
        "        # non_ext_mask = is_ext == 0\n",
        "        # all_targets_non_ext.extend(targets[non_ext_mask].cpu().detach().numpy())\n",
        "        # all_outputs_non_ext.extend(outputs[non_ext_mask].cpu().detach().numpy())\n",
        "\n",
        "        epoch_loss = running_loss / dataset_size\n",
        "        all_targets.extend(targets.cpu().numpy())\n",
        "        all_outputs.extend(outputs.cpu().detach().numpy())\n",
        "\n",
        "\n",
        "        # current_pauc = compute_pauc(targets.cpu().numpy(), outputs.detach().cpu().numpy(), tpr_threshold=0.8)\n",
        "\n",
        "        # running_pauc += (current_pauc * batch_size)\n",
        "        # current_epoch_pauc = running_pauc / dataset_size\n",
        "\n",
        "\n",
        "        # bar.set_postfix(Epoch=epoch, Valid_Loss=epoch_loss, Valid_pAUC=current_pauc,\n",
        "        #                 LR=optimizer.param_groups[0]['lr'])\n",
        "\n",
        "        bar.set_postfix(Epoch=epoch, Valid_Loss=epoch_loss,\n",
        "                        LR=optimizer.param_groups[0]['lr'])\n",
        "\n",
        "    # Compute partial AUC\n",
        "    # all_targets = np.array(all_targets)\n",
        "    # all_outputs = np.array(all_outputs)\n",
        "    epoch_pauc = compute_pauc(all_targets, all_outputs, tpr_threshold=0.8)\n",
        "\n",
        "    # all_targets_non_ext = np.array(all_targets_non_ext)\n",
        "    # all_outputs_non_ext = np.array(all_outputs_non_ext)\n",
        "    # epoch_pauc_non_ext = compute_pauc(all_targets_non_ext, all_outputs_non_ext, tpr_threshold=0.8)\n",
        "\n",
        "\n",
        "    gc.collect()\n",
        "\n",
        "    return epoch_loss, epoch_pauc"
      ]
    },
    {
      "cell_type": "code",
      "execution_count": null,
      "metadata": {
        "id": "hZ9NgVUjZOzU"
      },
      "outputs": [],
      "source": [
        "def run_training(model, optimizer, scheduler, device, num_epochs, fold):\n",
        "    if torch.cuda.is_available():\n",
        "        print(\"[INFO] Using GPU: {}\\n\".format(torch.cuda.get_device_name()))\n",
        "\n",
        "    start = time.time()\n",
        "    best_model_wts = copy.deepcopy(model.state_dict())\n",
        "    best_epoch_pauc = -np.inf\n",
        "    # best_epoch_pauc_non_ext = -np.inf\n",
        "\n",
        "    history = defaultdict(list)\n",
        "\n",
        "    for epoch in range(1, num_epochs + 1):\n",
        "        gc.collect()\n",
        "        train_epoch_loss, train_epoch_pauc = train_one_epoch(model, optimizer, scheduler,\n",
        "                                           dataloader=train_loader,\n",
        "                                           device=CONFIG['device'], epoch=epoch)\n",
        "\n",
        "        val_epoch_loss, val_epoch_pauc = valid_one_epoch(model, valid_loader, device=CONFIG['device'],\n",
        "                                         epoch=epoch)\n",
        "\n",
        "        history['Train Loss'].append(train_epoch_loss)\n",
        "        history['Valid Loss'].append(val_epoch_loss)\n",
        "        history['Train PAUC'].append(train_epoch_pauc)\n",
        "        history['Valid PAUC'].append(val_epoch_pauc)\n",
        "        # history['Valid PAUC non-ext'].append(val_epoch_pauc_non_ext)\n",
        "        history['lr'].append( scheduler.get_lr()[0] )\n",
        "\n",
        "        # deep copy the model\n",
        "        if best_epoch_pauc <= val_epoch_pauc:\n",
        "            print(f\"Validation pAUC Improved ({best_epoch_pauc} ---> {val_epoch_pauc})\")\n",
        "            best_epoch_pauc = val_epoch_pauc\n",
        "            # best_epoch_pauc_non_ext = val_epoch_pauc_non_ext\n",
        "            best_model_wts = copy.deepcopy(model.state_dict())\n",
        "            PATH = \"pAUC{:.4f}_Loss{:.4f}_epoch{:.0f}_fold{:.0f}.bin\".format(val_epoch_pauc, val_epoch_loss, epoch, fold)\n",
        "            torch.save(model.state_dict(), PATH)\n",
        "            # Save a model file from the current directory\n",
        "            print(\"Model Saved\")\n",
        "\n",
        "        print()\n",
        "\n",
        "    end = time.time()\n",
        "    time_elapsed = end - start\n",
        "    print('Training complete in {:.0f}h {:.0f}m {:.0f}s'.format(\n",
        "        time_elapsed // 3600, (time_elapsed % 3600) // 60, (time_elapsed % 3600) % 60))\n",
        "    print(\"Best pAUC: {:.4f}\".format(best_epoch_pauc))\n",
        "    # print(\"Best pAUC non-ext: {:.4f}\".format(best_epoch_pauc_non_ext))\n",
        "\n",
        "    # load best model weights\n",
        "    model.load_state_dict(best_model_wts)\n",
        "\n",
        "    return model, history, best_epoch_pauc"
      ]
    },
    {
      "cell_type": "code",
      "execution_count": null,
      "metadata": {
        "id": "5qeQgaf2qjZz"
      },
      "outputs": [],
      "source": [
        "from torch.optim.lr_scheduler import _LRScheduler\n",
        "\n",
        "class GradualWarmupScheduler(_LRScheduler):\n",
        "    def __init__(self, optimizer, multiplier, total_epoch, after_scheduler=None):\n",
        "        self.multiplier = multiplier\n",
        "        self.total_epoch = total_epoch\n",
        "        self.after_scheduler = after_scheduler\n",
        "        self.finished = False\n",
        "        super().__init__(optimizer)\n",
        "\n",
        "    def get_lr(self):\n",
        "        if self.last_epoch > self.total_epoch:\n",
        "            if self.after_scheduler:\n",
        "                if not self.finished:\n",
        "                    self.after_scheduler.base_lrs = [base_lr * self.multiplier for base_lr in self.base_lrs]\n",
        "                    self.finished = True\n",
        "                return self.after_scheduler.get_last_lr()\n",
        "            return [base_lr * self.multiplier for base_lr in self.base_lrs]\n",
        "\n",
        "        return [base_lr * ((self.multiplier - 1.) * self.last_epoch / self.total_epoch + 1.) for base_lr in self.base_lrs]\n",
        "\n",
        "    def step(self, epoch=None, metrics=None):\n",
        "        if self.finished and self.after_scheduler:\n",
        "            if epoch is None:\n",
        "                self.after_scheduler.step(None)\n",
        "            else:\n",
        "                self.after_scheduler.step(epoch - self.total_epoch)\n",
        "        else:\n",
        "            return super(GradualWarmupScheduler, self).step(epoch)"
      ]
    },
    {
      "cell_type": "code",
      "execution_count": null,
      "metadata": {
        "id": "wExonhx2ZQHs"
      },
      "outputs": [],
      "source": [
        "def fetch_scheduler(optimizer):\n",
        "    if CONFIG['scheduler'] == 'CosineAnnealingLR':\n",
        "        scheduler = lr_scheduler.CosineAnnealingLR(optimizer,T_max=CONFIG['T_max'],\n",
        "                                                   eta_min=CONFIG['min_lr'])\n",
        "\n",
        "    elif CONFIG['scheduler'] == 'CosineAnnealingWarmRestarts':\n",
        "        scheduler = lr_scheduler.CosineAnnealingWarmRestarts(optimizer,T_0=CONFIG['T_0'],\n",
        "                                                             eta_min=CONFIG['min_lr'])\n",
        "\n",
        "    elif CONFIG['scheduler'] == 'OneCycleLR':\n",
        "        scheduler = lr_scheduler.OneCycleLR(optimizer, max_lr=0.0005,\n",
        "                                            steps_per_epoch=int(len(train_loader)),\n",
        "                                            epochs=1,\n",
        "                                            pct_start=0.3,\n",
        "                                            anneal_strategy='cos')\n",
        "\n",
        "    elif CONFIG['scheduler'] == 'ReduceLROnPlateau':\n",
        "        scheduler = lr_scheduler.ReduceLROnPlateau(optimizer, mode='min',\n",
        "                                                   factor=0.2,\n",
        "                                                   patience=1,\n",
        "                                                   min_lr=1e-6,\n",
        "                                                   verbose=True)\n",
        "\n",
        "    elif CONFIG['scheduler'] == None:\n",
        "        return None\n",
        "\n",
        "    return scheduler"
      ]
    },
    {
      "cell_type": "code",
      "execution_count": null,
      "metadata": {
        "id": "ZpV9SpeRZRQ2"
      },
      "outputs": [],
      "source": [
        "def prepare_loaders(df, fold):\n",
        "    df_train = df[df.kfold != fold].reset_index(drop=True)\n",
        "    df_valid = df[df.kfold == fold].reset_index(drop=True)\n",
        "\n",
        "    df_train_positive = df_train[df_train[\"target\"] == 1].reset_index(drop=True)\n",
        "    df_train_negative = df_train[df_train[\"target\"] == 0].reset_index(drop=True)\n",
        "\n",
        "    df_train_negative_sample = df_train_negative.sample(n=df_train_positive.shape[0] * 20, random_state=42)\n",
        "    df_train = pd.concat([df_train_positive, df_train_negative_sample]).reset_index(drop=True)\n",
        "\n",
        "\n",
        "    df = pd.concat([df_train, df_valid]).reset_index(drop=True)\n",
        "    print(f'Number of training samples: {len(df_train)}')\n",
        "    print(f'Number of validation samples: {len(df_valid)}')\n",
        "    print(f'Total number of samples: {df.shape[0]}')\n",
        "\n",
        "    train_dataset = ISICDataset(df_train, transforms=data_transforms[\"train\"])\n",
        "    valid_dataset = ISICDataset(df_valid, transforms=data_transforms[\"valid\"])\n",
        "\n",
        "    print(f'Length of train_dataset: {len(train_dataset)}')\n",
        "    print(f'Length of valid_dataset: {len(valid_dataset)}')\n",
        "\n",
        "    train_loader = DataLoader(train_dataset, batch_size=CONFIG['train_batch_size'],\n",
        "\n",
        "                              num_workers=2, shuffle=True, pin_memory=True)\n",
        "    valid_loader = DataLoader(valid_dataset, batch_size=CONFIG['valid_batch_size'],\n",
        "\n",
        "                              num_workers=2, shuffle=False, pin_memory=True)\n",
        "\n",
        "\n",
        "    print(f'Length of train_loader: {len(train_loader)}')\n",
        "    print(f'Length of valid_loader: {len(valid_loader)}')\n",
        "\n",
        "    return train_loader, valid_loader"
      ]
    },
    {
      "cell_type": "code",
      "execution_count": null,
      "metadata": {
        "colab": {
          "base_uri": "https://localhost:8080/",
          "height": 1000
        },
        "id": "EcGAFTihVQyQ",
        "outputId": "073d7a7b-49e4-404b-8485-28d9c15986de"
      },
      "outputs": [],
      "source": [
        "pauc_scores = []\n",
        "pauc_scores_non_ext = []\n",
        "\n",
        "oof_targets = []\n",
        "oof_predictions = []\n",
        "\n",
        "for fold in range(CONFIG['n_fold']):\n",
        "    print(f\"Fold: {fold}\")\n",
        "    train_loader, valid_loader = prepare_loaders(df, fold=fold)\n",
        "\n",
        "\n",
        "    model = ISICModel(CONFIG['model_name'], pretrained=True)\n",
        "    model.to(CONFIG['device']);\n",
        "\n",
        "    optimizer = optim.Adam(model.parameters(), lr=CONFIG['learning_rate'],\n",
        "                           weight_decay=CONFIG['weight_decay'])\n",
        "\n",
        "    # optimizer = optim.Adam(model.parameters(), lr=0.00001)\n",
        "\n",
        "    scheduler_cosine = fetch_scheduler(optimizer) ############\n",
        "    scheduler = GradualWarmupScheduler(optimizer, multiplier=10, total_epoch=1, after_scheduler=scheduler_cosine) ######\n",
        "\n",
        "    # scheduler = fetch_scheduler(optimizer)\n",
        "\n",
        "    model, history, best_epoch_pauc  = run_training(model, optimizer, scheduler,\n",
        "                                  device=CONFIG['device'],\n",
        "                                  num_epochs=CONFIG['epochs'],\n",
        "                                  fold=fold)\n",
        "\n",
        "    val_targets = []\n",
        "    val_predictions = []\n",
        "\n",
        "    model.eval()\n",
        "    with torch.inference_mode():\n",
        "        for data in valid_loader:\n",
        "            images = data['image'].to(CONFIG['device'], dtype=torch.float)\n",
        "            targets = data['target'].to(CONFIG['device'], dtype=torch.float)\n",
        "\n",
        "            outputs = model(images).squeeze()\n",
        "            val_targets.extend(targets.cpu().numpy())\n",
        "            val_predictions.extend(outputs.cpu().numpy())\n",
        "\n",
        "    oof_targets.extend(val_targets)\n",
        "    oof_predictions.extend(val_predictions)\n",
        "\n",
        "    pauc_scores.append(best_epoch_pauc)\n",
        "    # pauc_scores_non_ext.append(best_epoch_pauc_non_ext)\n",
        "\n",
        "    history = pd.DataFrame.from_dict(history)\n",
        "    history.to_csv(f\"history_{fold}.csv\", index=False)\n",
        "    plt.plot( range(history.shape[0]), history[\"Train Loss\"].values, label=\"Train Loss\")\n",
        "    plt.plot( range(history.shape[0]), history[\"Valid Loss\"].values, label=\"Valid Loss\")\n",
        "    plt.xlabel(\"epochs\")\n",
        "    plt.ylabel(\"Loss\")\n",
        "    plt.grid()\n",
        "    plt.legend()\n",
        "    plt.show()\n",
        "\n",
        "    plt.plot(range(history.shape[0]), history[\"Train PAUC\"].values, label=\"Train PAUC\")\n",
        "    plt.plot(range(history.shape[0]), history[\"Valid PAUC\"].values, label=\"Valid PAUC\")\n",
        "    # plt.plot(range(history.shape[0]), history[\"Valid PAUC non-ext\"].values, label=\"Valid PAUC non-ext\")\n",
        "    plt.xlabel(\"epochs\")\n",
        "    plt.ylabel(\"PAUC\")\n",
        "    plt.grid()\n",
        "    plt.legend()\n",
        "    plt.show()\n",
        "\n",
        "    plt.plot(range(history.shape[0]), history[\"lr\"].values, label=\"lr\")\n",
        "    plt.xlabel(\"epochs\")\n",
        "    plt.ylabel(\"lr\")\n",
        "    plt.grid()\n",
        "    plt.legend()\n",
        "    plt.show()\n",
        "\n",
        "print(f\"Mean PAUC: {np.mean(pauc_scores)}\")\n",
        "print(f\"Std PAUC: {np.std(pauc_scores)}\")\n",
        "\n",
        "oof_pauc = compute_pauc(np.array(oof_targets), np.array(oof_predictions), tpr_threshold=0.8)\n",
        "print(f\"OOF PAUC: {oof_pauc}\")\n",
        "\n",
        "# print(f\"Mean PAUC non-ext: {np.mean(pauc_scores_non_ext)}\")\n",
        "# print(f\"Std PAUC non-ext: {np.std(pauc_scores_non_ext)}\")\n",
        "\n",
        "# effnetb0-5fold Mean PAUC: 0.1541151329587102\n",
        "# Std PAUC: 0.009240496729855495\n",
        "\n"
      ]
    },
    {
      "cell_type": "code",
      "execution_count": null,
      "metadata": {
        "id": "Lfh1kGkOZSQ8"
      },
      "outputs": [],
      "source": [
        "# train_loader, valid_loader = prepare_loaders(df, fold=CONFIG[\"fold\"])\n",
        "\n",
        "\n",
        "# # train_loader = MpDeviceLoader(train_loader, CONFIG['device'])\n",
        "# # valid_loader = MpDeviceLoader(valid_loader, CONFIG['device'])"
      ]
    },
    {
      "cell_type": "code",
      "execution_count": null,
      "metadata": {
        "id": "BC9_cyCuZTYE"
      },
      "outputs": [],
      "source": [
        "\n",
        "# optimizer = optim.Adam(model.parameters(), lr=CONFIG['learning_rate'],\n",
        "#                        weight_decay=CONFIG['weight_decay'])\n",
        "# scheduler = fetch_scheduler(optimizer)"
      ]
    },
    {
      "cell_type": "code",
      "execution_count": null,
      "metadata": {
        "id": "tTXRiIkoZU81"
      },
      "outputs": [],
      "source": [
        "# model, history = run_training(model, optimizer, scheduler,\n",
        "#                               device=CONFIG['device'],\n",
        "#                               num_epochs=CONFIG['epochs'])"
      ]
    },
    {
      "cell_type": "code",
      "execution_count": null,
      "metadata": {
        "id": "j4XJkXhBZWGE"
      },
      "outputs": [],
      "source": [
        "# history = pd.DataFrame.from_dict(history)\n",
        "# history.to_csv(\"history.csv\", index=False)\n",
        "# # 0.1582"
      ]
    },
    {
      "cell_type": "code",
      "execution_count": null,
      "metadata": {
        "id": "dPFoXruDgMsi"
      },
      "outputs": [],
      "source": [
        "## LEARNING RATE AYARLARINA BAK\n",
        "## KAZANAN COZUMLER NASIL SAMPLE KULLANMIS BAK."
      ]
    },
    {
      "cell_type": "code",
      "execution_count": null,
      "metadata": {
        "id": "TgqRKv2MZvhy"
      },
      "outputs": [],
      "source": [
        "# plt.plot( range(history.shape[0]), history[\"Train Loss\"].values, label=\"Train Loss\")\n",
        "# plt.plot( range(history.shape[0]), history[\"Valid Loss\"].values, label=\"Valid Loss\")\n",
        "# plt.xlabel(\"epochs\")\n",
        "# plt.ylabel(\"Loss\")\n",
        "# plt.grid()\n",
        "# plt.legend()\n",
        "# plt.show()"
      ]
    },
    {
      "cell_type": "code",
      "execution_count": null,
      "metadata": {
        "id": "Su-re7WTZv3I"
      },
      "outputs": [],
      "source": [
        "# plt.plot( range(history.shape[0]), history[\"Train PAUC\"].values, label=\"Train PAUC\")\n",
        "# plt.plot( range(history.shape[0]), history[\"Valid PAUC\"].values, label=\"Valid PAUC\")\n",
        "# plt.xlabel(\"epochs\")\n",
        "# plt.ylabel(\"PAUC\")\n",
        "# plt.grid()\n",
        "# plt.legend()\n",
        "# plt.show()"
      ]
    },
    {
      "cell_type": "code",
      "execution_count": null,
      "metadata": {
        "id": "0jfL89QsZw0a"
      },
      "outputs": [],
      "source": [
        "# plt.plot( range(history.shape[0]), history[\"lr\"].values, label=\"lr\")\n",
        "# plt.xlabel(\"epochs\")\n",
        "# plt.ylabel(\"lr\")\n",
        "# plt.grid()\n",
        "# plt.legend()\n",
        "# plt.show()"
      ]
    },
    {
      "cell_type": "code",
      "execution_count": null,
      "metadata": {
        "id": "5hWDmEzKZxz6"
      },
      "outputs": [],
      "source": []
    }
  ],
  "metadata": {
    "accelerator": "GPU",
    "colab": {
      "gpuType": "L4",
      "machine_shape": "hm",
      "provenance": []
    },
    "kernelspec": {
      "display_name": "Python 3",
      "name": "python3"
    },
    "language_info": {
      "codemirror_mode": {
        "name": "ipython",
        "version": 3
      },
      "file_extension": ".py",
      "mimetype": "text/x-python",
      "name": "python",
      "nbconvert_exporter": "python",
      "pygments_lexer": "ipython3",
      "version": "3.12.4"
    },
    "widgets": {
      "application/vnd.jupyter.widget-state+json": {
        "0524beee1aca410d88dcd112a3435ee6": {
          "model_module": "@jupyter-widgets/controls",
          "model_module_version": "1.5.0",
          "model_name": "HBoxModel",
          "state": {
            "_dom_classes": [],
            "_model_module": "@jupyter-widgets/controls",
            "_model_module_version": "1.5.0",
            "_model_name": "HBoxModel",
            "_view_count": null,
            "_view_module": "@jupyter-widgets/controls",
            "_view_module_version": "1.5.0",
            "_view_name": "HBoxView",
            "box_style": "",
            "children": [
              "IPY_MODEL_3b47fd35873b482fba46c278db9a6690",
              "IPY_MODEL_bd54ba5fc15d4c1cbe1714713fa92fda",
              "IPY_MODEL_0abdea22d7694b178fa81d1cf4ace088"
            ],
            "layout": "IPY_MODEL_4dcbb38e2491450991b68a55dc6bdc0c"
          }
        },
        "0855f253c57848c4ba1fdaf48fb4278a": {
          "model_module": "@jupyter-widgets/controls",
          "model_module_version": "1.5.0",
          "model_name": "ProgressStyleModel",
          "state": {
            "_model_module": "@jupyter-widgets/controls",
            "_model_module_version": "1.5.0",
            "_model_name": "ProgressStyleModel",
            "_view_count": null,
            "_view_module": "@jupyter-widgets/base",
            "_view_module_version": "1.2.0",
            "_view_name": "StyleView",
            "bar_color": null,
            "description_width": ""
          }
        },
        "0abdea22d7694b178fa81d1cf4ace088": {
          "model_module": "@jupyter-widgets/controls",
          "model_module_version": "1.5.0",
          "model_name": "HTMLModel",
          "state": {
            "_dom_classes": [],
            "_model_module": "@jupyter-widgets/controls",
            "_model_module_version": "1.5.0",
            "_model_name": "HTMLModel",
            "_view_count": null,
            "_view_module": "@jupyter-widgets/controls",
            "_view_module_version": "1.5.0",
            "_view_name": "HTMLView",
            "description": "",
            "description_tooltip": null,
            "layout": "IPY_MODEL_8d9175904b3342ad9019d34c9175a157",
            "placeholder": "​",
            "style": "IPY_MODEL_0ad09a5f417b4a278c8b1447627e8aac",
            "value": " 88.5M/88.5M [01:07&lt;00:00, 2.93MB/s]"
          }
        },
        "0ad09a5f417b4a278c8b1447627e8aac": {
          "model_module": "@jupyter-widgets/controls",
          "model_module_version": "1.5.0",
          "model_name": "DescriptionStyleModel",
          "state": {
            "_model_module": "@jupyter-widgets/controls",
            "_model_module_version": "1.5.0",
            "_model_name": "DescriptionStyleModel",
            "_view_count": null,
            "_view_module": "@jupyter-widgets/base",
            "_view_module_version": "1.2.0",
            "_view_name": "StyleView",
            "description_width": ""
          }
        },
        "3b47fd35873b482fba46c278db9a6690": {
          "model_module": "@jupyter-widgets/controls",
          "model_module_version": "1.5.0",
          "model_name": "HTMLModel",
          "state": {
            "_dom_classes": [],
            "_model_module": "@jupyter-widgets/controls",
            "_model_module_version": "1.5.0",
            "_model_name": "HTMLModel",
            "_view_count": null,
            "_view_module": "@jupyter-widgets/controls",
            "_view_module_version": "1.5.0",
            "_view_name": "HTMLView",
            "description": "",
            "description_tooltip": null,
            "layout": "IPY_MODEL_962f54bd7773405baafc181f5f06712f",
            "placeholder": "​",
            "style": "IPY_MODEL_7da4ba49061a4499aefc13cfd21c0174",
            "value": "model.safetensors: 100%"
          }
        },
        "4dcbb38e2491450991b68a55dc6bdc0c": {
          "model_module": "@jupyter-widgets/base",
          "model_module_version": "1.2.0",
          "model_name": "LayoutModel",
          "state": {
            "_model_module": "@jupyter-widgets/base",
            "_model_module_version": "1.2.0",
            "_model_name": "LayoutModel",
            "_view_count": null,
            "_view_module": "@jupyter-widgets/base",
            "_view_module_version": "1.2.0",
            "_view_name": "LayoutView",
            "align_content": null,
            "align_items": null,
            "align_self": null,
            "border": null,
            "bottom": null,
            "display": null,
            "flex": null,
            "flex_flow": null,
            "grid_area": null,
            "grid_auto_columns": null,
            "grid_auto_flow": null,
            "grid_auto_rows": null,
            "grid_column": null,
            "grid_gap": null,
            "grid_row": null,
            "grid_template_areas": null,
            "grid_template_columns": null,
            "grid_template_rows": null,
            "height": null,
            "justify_content": null,
            "justify_items": null,
            "left": null,
            "margin": null,
            "max_height": null,
            "max_width": null,
            "min_height": null,
            "min_width": null,
            "object_fit": null,
            "object_position": null,
            "order": null,
            "overflow": null,
            "overflow_x": null,
            "overflow_y": null,
            "padding": null,
            "right": null,
            "top": null,
            "visibility": null,
            "width": null
          }
        },
        "7da4ba49061a4499aefc13cfd21c0174": {
          "model_module": "@jupyter-widgets/controls",
          "model_module_version": "1.5.0",
          "model_name": "DescriptionStyleModel",
          "state": {
            "_model_module": "@jupyter-widgets/controls",
            "_model_module_version": "1.5.0",
            "_model_name": "DescriptionStyleModel",
            "_view_count": null,
            "_view_module": "@jupyter-widgets/base",
            "_view_module_version": "1.2.0",
            "_view_name": "StyleView",
            "description_width": ""
          }
        },
        "8d9175904b3342ad9019d34c9175a157": {
          "model_module": "@jupyter-widgets/base",
          "model_module_version": "1.2.0",
          "model_name": "LayoutModel",
          "state": {
            "_model_module": "@jupyter-widgets/base",
            "_model_module_version": "1.2.0",
            "_model_name": "LayoutModel",
            "_view_count": null,
            "_view_module": "@jupyter-widgets/base",
            "_view_module_version": "1.2.0",
            "_view_name": "LayoutView",
            "align_content": null,
            "align_items": null,
            "align_self": null,
            "border": null,
            "bottom": null,
            "display": null,
            "flex": null,
            "flex_flow": null,
            "grid_area": null,
            "grid_auto_columns": null,
            "grid_auto_flow": null,
            "grid_auto_rows": null,
            "grid_column": null,
            "grid_gap": null,
            "grid_row": null,
            "grid_template_areas": null,
            "grid_template_columns": null,
            "grid_template_rows": null,
            "height": null,
            "justify_content": null,
            "justify_items": null,
            "left": null,
            "margin": null,
            "max_height": null,
            "max_width": null,
            "min_height": null,
            "min_width": null,
            "object_fit": null,
            "object_position": null,
            "order": null,
            "overflow": null,
            "overflow_x": null,
            "overflow_y": null,
            "padding": null,
            "right": null,
            "top": null,
            "visibility": null,
            "width": null
          }
        },
        "90d131c751684e88a82cdaeea599bda3": {
          "model_module": "@jupyter-widgets/base",
          "model_module_version": "1.2.0",
          "model_name": "LayoutModel",
          "state": {
            "_model_module": "@jupyter-widgets/base",
            "_model_module_version": "1.2.0",
            "_model_name": "LayoutModel",
            "_view_count": null,
            "_view_module": "@jupyter-widgets/base",
            "_view_module_version": "1.2.0",
            "_view_name": "LayoutView",
            "align_content": null,
            "align_items": null,
            "align_self": null,
            "border": null,
            "bottom": null,
            "display": null,
            "flex": null,
            "flex_flow": null,
            "grid_area": null,
            "grid_auto_columns": null,
            "grid_auto_flow": null,
            "grid_auto_rows": null,
            "grid_column": null,
            "grid_gap": null,
            "grid_row": null,
            "grid_template_areas": null,
            "grid_template_columns": null,
            "grid_template_rows": null,
            "height": null,
            "justify_content": null,
            "justify_items": null,
            "left": null,
            "margin": null,
            "max_height": null,
            "max_width": null,
            "min_height": null,
            "min_width": null,
            "object_fit": null,
            "object_position": null,
            "order": null,
            "overflow": null,
            "overflow_x": null,
            "overflow_y": null,
            "padding": null,
            "right": null,
            "top": null,
            "visibility": null,
            "width": null
          }
        },
        "962f54bd7773405baafc181f5f06712f": {
          "model_module": "@jupyter-widgets/base",
          "model_module_version": "1.2.0",
          "model_name": "LayoutModel",
          "state": {
            "_model_module": "@jupyter-widgets/base",
            "_model_module_version": "1.2.0",
            "_model_name": "LayoutModel",
            "_view_count": null,
            "_view_module": "@jupyter-widgets/base",
            "_view_module_version": "1.2.0",
            "_view_name": "LayoutView",
            "align_content": null,
            "align_items": null,
            "align_self": null,
            "border": null,
            "bottom": null,
            "display": null,
            "flex": null,
            "flex_flow": null,
            "grid_area": null,
            "grid_auto_columns": null,
            "grid_auto_flow": null,
            "grid_auto_rows": null,
            "grid_column": null,
            "grid_gap": null,
            "grid_row": null,
            "grid_template_areas": null,
            "grid_template_columns": null,
            "grid_template_rows": null,
            "height": null,
            "justify_content": null,
            "justify_items": null,
            "left": null,
            "margin": null,
            "max_height": null,
            "max_width": null,
            "min_height": null,
            "min_width": null,
            "object_fit": null,
            "object_position": null,
            "order": null,
            "overflow": null,
            "overflow_x": null,
            "overflow_y": null,
            "padding": null,
            "right": null,
            "top": null,
            "visibility": null,
            "width": null
          }
        },
        "bd54ba5fc15d4c1cbe1714713fa92fda": {
          "model_module": "@jupyter-widgets/controls",
          "model_module_version": "1.5.0",
          "model_name": "FloatProgressModel",
          "state": {
            "_dom_classes": [],
            "_model_module": "@jupyter-widgets/controls",
            "_model_module_version": "1.5.0",
            "_model_name": "FloatProgressModel",
            "_view_count": null,
            "_view_module": "@jupyter-widgets/controls",
            "_view_module_version": "1.5.0",
            "_view_name": "ProgressView",
            "bar_style": "success",
            "description": "",
            "description_tooltip": null,
            "layout": "IPY_MODEL_90d131c751684e88a82cdaeea599bda3",
            "max": 88530864,
            "min": 0,
            "orientation": "horizontal",
            "style": "IPY_MODEL_0855f253c57848c4ba1fdaf48fb4278a",
            "value": 88530864
          }
        }
      }
    }
  },
  "nbformat": 4,
  "nbformat_minor": 0
}
