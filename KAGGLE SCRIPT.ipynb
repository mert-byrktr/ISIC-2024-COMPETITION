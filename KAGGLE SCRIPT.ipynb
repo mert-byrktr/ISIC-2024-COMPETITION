{
 "cells": [
  {
   "cell_type": "code",
   "execution_count": 1,
   "id": "aa6115c7",
   "metadata": {
    "_cell_guid": "b1076dfc-b9ad-4769-8c92-a6c4dae69d19",
    "_uuid": "8f2839f25d086af736a60e9eeb907d3b93b6e0e5",
    "execution": {
     "iopub.execute_input": "2024-08-15T19:02:42.695967Z",
     "iopub.status.busy": "2024-08-15T19:02:42.695595Z",
     "iopub.status.idle": "2024-08-15T19:02:42.708016Z",
     "shell.execute_reply": "2024-08-15T19:02:42.707096Z"
    },
    "papermill": {
     "duration": 0.019854,
     "end_time": "2024-08-15T19:02:42.709839",
     "exception": false,
     "start_time": "2024-08-15T19:02:42.689985",
     "status": "completed"
    },
    "tags": []
   },
   "outputs": [
    {
     "name": "stdout",
     "output_type": "stream",
     "text": [
      "Writing main.py\n"
     ]
    }
   ],
   "source": [
    "%%writefile main.py\n",
    "\n",
    "import os\n",
    "import gc\n",
    "import cv2\n",
    "import math\n",
    "import copy\n",
    "import time\n",
    "import random\n",
    "import glob\n",
    "from matplotlib import pyplot as plt\n",
    "\n",
    "import h5py\n",
    "from PIL import Image\n",
    "from io import BytesIO\n",
    "\n",
    "# For data manipulation\n",
    "import numpy as np\n",
    "import pandas as pd\n",
    "\n",
    "# Pytorch Imports\n",
    "import torch\n",
    "import torch.nn as nn\n",
    "import torch.optim as optim\n",
    "import torch.nn.functional as F\n",
    "from torch.optim import lr_scheduler\n",
    "from torch.utils.data import Dataset, DataLoader\n",
    "from torch.cuda import amp\n",
    "import torchvision\n",
    "\n",
    "# Utils\n",
    "import joblib\n",
    "from tqdm import tqdm\n",
    "from collections import defaultdict\n",
    "\n",
    "# Sklearn Imports\n",
    "from sklearn.preprocessing import LabelEncoder\n",
    "from sklearn.model_selection import StratifiedKFold\n",
    "\n",
    "# For Image Models\n",
    "import timm\n",
    "\n",
    "# Albumentations for augmentations\n",
    "import albumentations as A\n",
    "from albumentations.pytorch import ToTensorV2\n",
    "\n",
    "# For colored terminal text\n",
    "from colorama import Fore, Back, Style\n",
    "b_ = Fore.BLUE\n",
    "sr_ = Style.RESET_ALL\n",
    "\n",
    "import warnings\n",
    "warnings.filterwarnings(\"ignore\")\n",
    "\n",
    "# For descriptive error messages\n",
    "os.environ['CUDA_LAUNCH_BLOCKING'] = \"1\""
   ]
  },
  {
   "cell_type": "code",
   "execution_count": 2,
   "id": "3375c6c5",
   "metadata": {
    "execution": {
     "iopub.execute_input": "2024-08-15T19:02:42.718944Z",
     "iopub.status.busy": "2024-08-15T19:02:42.718706Z",
     "iopub.status.idle": "2024-08-15T19:02:42.723524Z",
     "shell.execute_reply": "2024-08-15T19:02:42.722681Z"
    },
    "papermill": {
     "duration": 0.011248,
     "end_time": "2024-08-15T19:02:42.725338",
     "exception": false,
     "start_time": "2024-08-15T19:02:42.714090",
     "status": "completed"
    },
    "tags": []
   },
   "outputs": [
    {
     "name": "stdout",
     "output_type": "stream",
     "text": [
      "Appending to main.py\n"
     ]
    }
   ],
   "source": [
    "%%writefile -a main.py\n",
    "\n",
    "CONFIG = {\n",
    "    \"seed\": 42,\n",
    "    \"img_size\": 384,\n",
    "    \"model_name\": \"tf_efficientnet_b0_ns\",\n",
    "    \"valid_batch_size\": 64,\n",
    "    \"device\": torch.device(\"cuda:0\" if torch.cuda.is_available() else \"cpu\"),\n",
    "}"
   ]
  },
  {
   "cell_type": "code",
   "execution_count": 3,
   "id": "88382219",
   "metadata": {
    "execution": {
     "iopub.execute_input": "2024-08-15T19:02:42.734444Z",
     "iopub.status.busy": "2024-08-15T19:02:42.734187Z",
     "iopub.status.idle": "2024-08-15T19:02:42.739282Z",
     "shell.execute_reply": "2024-08-15T19:02:42.738536Z"
    },
    "papermill": {
     "duration": 0.011912,
     "end_time": "2024-08-15T19:02:42.741344",
     "exception": false,
     "start_time": "2024-08-15T19:02:42.729432",
     "status": "completed"
    },
    "tags": []
   },
   "outputs": [
    {
     "name": "stdout",
     "output_type": "stream",
     "text": [
      "Appending to main.py\n"
     ]
    }
   ],
   "source": [
    "%%writefile -a main.py\n",
    "\n",
    "def set_seed(seed=42):\n",
    "    '''Sets the seed of the entire notebook so results are the same every time we run.\n",
    "    This is for REPRODUCIBILITY.'''\n",
    "    np.random.seed(seed)\n",
    "    torch.manual_seed(seed)\n",
    "    torch.cuda.manual_seed(seed)\n",
    "    # When running on the CuDNN backend, two further options must be set\n",
    "    torch.backends.cudnn.deterministic = True\n",
    "    torch.backends.cudnn.benchmark = False\n",
    "    # Set a fixed value for the hash seed\n",
    "    os.environ['PYTHONHASHSEED'] = str(seed)\n",
    "    \n",
    "set_seed(CONFIG['seed'])"
   ]
  },
  {
   "cell_type": "code",
   "execution_count": 4,
   "id": "8fa558d6",
   "metadata": {
    "execution": {
     "iopub.execute_input": "2024-08-15T19:02:42.750738Z",
     "iopub.status.busy": "2024-08-15T19:02:42.750465Z",
     "iopub.status.idle": "2024-08-15T19:02:42.755341Z",
     "shell.execute_reply": "2024-08-15T19:02:42.754578Z"
    },
    "papermill": {
     "duration": 0.011661,
     "end_time": "2024-08-15T19:02:42.757308",
     "exception": false,
     "start_time": "2024-08-15T19:02:42.745647",
     "status": "completed"
    },
    "tags": []
   },
   "outputs": [
    {
     "name": "stdout",
     "output_type": "stream",
     "text": [
      "Appending to main.py\n"
     ]
    }
   ],
   "source": [
    "%%writefile -a main.py\n",
    "\n",
    "ROOT_DIR = \"/kaggle/input/isic-2024-challenge\"\n",
    "TEST_CSV = f'{ROOT_DIR}/test-metadata.csv'\n",
    "TEST_HDF = f'{ROOT_DIR}/test-image.hdf5'\n",
    "SAMPLE = f'{ROOT_DIR}/sample_submission.csv'\n",
    "\n",
    "b0_weight_files = [\n",
    "    \"/kaggle/input/effnetb0-1-50-ratio-384/pAUC0.1542_Loss0.0066_epoch19_fold0.bin\",\n",
    "    \"/kaggle/input/effnetb0-1-50-ratio-384/pAUC0.1466_Loss0.0067_epoch20_fold1.bin\",\n",
    "    \"/kaggle/input/effnetb0-1-50-ratio-384/pAUC0.1668_Loss0.0066_epoch21_fold2.bin\",\n",
    "    \"/kaggle/input/effnetb0-1-50-ratio-384/pAUC0.1416_Loss0.0075_epoch9_fold3.bin\",\n",
    "    \"/kaggle/input/effnetb0-1-50-ratio-384/pAUC0.1614_Loss0.0059_epoch18_fold4.bin\"\n",
    "]"
   ]
  },
  {
   "cell_type": "code",
   "execution_count": 5,
   "id": "548b835c",
   "metadata": {
    "execution": {
     "iopub.execute_input": "2024-08-15T19:02:42.766911Z",
     "iopub.status.busy": "2024-08-15T19:02:42.766661Z",
     "iopub.status.idle": "2024-08-15T19:02:42.770823Z",
     "shell.execute_reply": "2024-08-15T19:02:42.770057Z"
    },
    "papermill": {
     "duration": 0.011436,
     "end_time": "2024-08-15T19:02:42.773156",
     "exception": false,
     "start_time": "2024-08-15T19:02:42.761720",
     "status": "completed"
    },
    "tags": []
   },
   "outputs": [
    {
     "name": "stdout",
     "output_type": "stream",
     "text": [
      "Appending to main.py\n"
     ]
    }
   ],
   "source": [
    "%%writefile -a main.py\n",
    "\n",
    "df = pd.read_csv(TEST_CSV)\n",
    "df['target'] = 0 # dummy\n",
    "df"
   ]
  },
  {
   "cell_type": "code",
   "execution_count": 6,
   "id": "81c6f4ff",
   "metadata": {
    "execution": {
     "iopub.execute_input": "2024-08-15T19:02:42.783041Z",
     "iopub.status.busy": "2024-08-15T19:02:42.782811Z",
     "iopub.status.idle": "2024-08-15T19:02:42.787127Z",
     "shell.execute_reply": "2024-08-15T19:02:42.786399Z"
    },
    "papermill": {
     "duration": 0.011468,
     "end_time": "2024-08-15T19:02:42.789050",
     "exception": false,
     "start_time": "2024-08-15T19:02:42.777582",
     "status": "completed"
    },
    "tags": []
   },
   "outputs": [
    {
     "name": "stdout",
     "output_type": "stream",
     "text": [
      "Appending to main.py\n"
     ]
    }
   ],
   "source": [
    "%%writefile -a main.py\n",
    "\n",
    "df_sub = pd.read_csv(SAMPLE)\n",
    "df_sub"
   ]
  },
  {
   "cell_type": "code",
   "execution_count": 7,
   "id": "8d4ea6a4",
   "metadata": {
    "execution": {
     "iopub.execute_input": "2024-08-15T19:02:42.799125Z",
     "iopub.status.busy": "2024-08-15T19:02:42.798894Z",
     "iopub.status.idle": "2024-08-15T19:02:42.804076Z",
     "shell.execute_reply": "2024-08-15T19:02:42.803158Z"
    },
    "papermill": {
     "duration": 0.012316,
     "end_time": "2024-08-15T19:02:42.805968",
     "exception": false,
     "start_time": "2024-08-15T19:02:42.793652",
     "status": "completed"
    },
    "tags": []
   },
   "outputs": [
    {
     "name": "stdout",
     "output_type": "stream",
     "text": [
      "Appending to main.py\n"
     ]
    }
   ],
   "source": [
    "%%writefile -a main.py\n",
    "\n",
    "import cv2\n",
    "import numpy as np\n",
    "import pandas as pd\n",
    "import h5py\n",
    "from torch.utils.data import Dataset\n",
    "\n",
    "class ISICDataset(Dataset):\n",
    "    def __init__(self, df, file_hdf, transforms=None):\n",
    "        self.df = df\n",
    "        self.fp_hdf = h5py.File(file_hdf, mode=\"r\")\n",
    "        self.isic_ids = df['isic_id'].values\n",
    "        self.targets = df['target'].values\n",
    "        self.transforms = transforms\n",
    "        \n",
    "    def __len__(self):\n",
    "        return len(self.isic_ids)\n",
    "    \n",
    "    def __getitem__(self, index):\n",
    "        isic_id = self.isic_ids[index]\n",
    "        img_bytes = self.fp_hdf[isic_id][()]\n",
    "        img = cv2.imdecode(np.frombuffer(img_bytes, np.uint8), cv2.IMREAD_COLOR)\n",
    "        img = cv2.cvtColor(img, cv2.COLOR_BGR2RGB)\n",
    "        target = self.targets[index]\n",
    "        \n",
    "        if self.transforms:\n",
    "            img = self.transforms(image=img)[\"image\"]\n",
    "            \n",
    "        return {\n",
    "            'image': img,\n",
    "            'target': target,\n",
    "        }"
   ]
  },
  {
   "cell_type": "code",
   "execution_count": 8,
   "id": "134853a4",
   "metadata": {
    "execution": {
     "iopub.execute_input": "2024-08-15T19:02:42.816333Z",
     "iopub.status.busy": "2024-08-15T19:02:42.816106Z",
     "iopub.status.idle": "2024-08-15T19:02:42.821038Z",
     "shell.execute_reply": "2024-08-15T19:02:42.820174Z"
    },
    "papermill": {
     "duration": 0.012242,
     "end_time": "2024-08-15T19:02:42.822966",
     "exception": false,
     "start_time": "2024-08-15T19:02:42.810724",
     "status": "completed"
    },
    "tags": []
   },
   "outputs": [
    {
     "name": "stdout",
     "output_type": "stream",
     "text": [
      "Appending to main.py\n"
     ]
    }
   ],
   "source": [
    "%%writefile -a main.py\n",
    "\n",
    "data_transforms = {\n",
    "    \"valid\": A.Compose([\n",
    "        A.Resize(CONFIG['img_size'], CONFIG['img_size']),\n",
    "        A.Normalize(\n",
    "                mean=[0.485, 0.456, 0.406], \n",
    "                std=[0.229, 0.224, 0.225], \n",
    "                max_pixel_value=255.0, \n",
    "                p=1.0\n",
    "            ),\n",
    "        ToTensorV2()], p=1.)\n",
    "}"
   ]
  },
  {
   "cell_type": "code",
   "execution_count": 9,
   "id": "a73e4c61",
   "metadata": {
    "execution": {
     "iopub.execute_input": "2024-08-15T19:02:42.833946Z",
     "iopub.status.busy": "2024-08-15T19:02:42.833711Z",
     "iopub.status.idle": "2024-08-15T19:02:42.838418Z",
     "shell.execute_reply": "2024-08-15T19:02:42.837649Z"
    },
    "papermill": {
     "duration": 0.01273,
     "end_time": "2024-08-15T19:02:42.840651",
     "exception": false,
     "start_time": "2024-08-15T19:02:42.827921",
     "status": "completed"
    },
    "tags": []
   },
   "outputs": [
    {
     "name": "stdout",
     "output_type": "stream",
     "text": [
      "Appending to main.py\n"
     ]
    }
   ],
   "source": [
    "%%writefile -a main.py\n",
    "\n",
    "class GeM(nn.Module):\n",
    "    def __init__(self, p=3, eps=1e-6):\n",
    "        super(GeM, self).__init__()\n",
    "        self.p = nn.Parameter(torch.ones(1)*p)\n",
    "        self.eps = eps\n",
    "\n",
    "    def forward(self, x):\n",
    "        return self.gem(x, p=self.p, eps=self.eps)\n",
    "        \n",
    "    def gem(self, x, p=3, eps=1e-6):\n",
    "        return F.avg_pool2d(x.clamp(min=eps).pow(p), (x.size(-2), x.size(-1))).pow(1./p)\n",
    "        \n",
    "    def __repr__(self):\n",
    "        return self.__class__.__name__ + \\\n",
    "                '(' + 'p=' + '{:.4f}'.format(self.p.data.tolist()[0]) + \\\n",
    "                ', ' + 'eps=' + str(self.eps) + ')'"
   ]
  },
  {
   "cell_type": "code",
   "execution_count": 10,
   "id": "9f54e47b",
   "metadata": {
    "execution": {
     "iopub.execute_input": "2024-08-15T19:02:42.851622Z",
     "iopub.status.busy": "2024-08-15T19:02:42.851393Z",
     "iopub.status.idle": "2024-08-15T19:02:42.856488Z",
     "shell.execute_reply": "2024-08-15T19:02:42.855678Z"
    },
    "papermill": {
     "duration": 0.012767,
     "end_time": "2024-08-15T19:02:42.858438",
     "exception": false,
     "start_time": "2024-08-15T19:02:42.845671",
     "status": "completed"
    },
    "tags": []
   },
   "outputs": [
    {
     "name": "stdout",
     "output_type": "stream",
     "text": [
      "Appending to main.py\n"
     ]
    }
   ],
   "source": [
    "%%writefile -a main.py\n",
    "\n",
    "class ISICModel(nn.Module):\n",
    "    def __init__(self, model_name, num_classes=1, pretrained=True, checkpoint_path=None):\n",
    "        super(ISICModel, self).__init__()\n",
    "        self.model = timm.create_model(model_name, pretrained=pretrained, checkpoint_path=checkpoint_path)\n",
    "\n",
    "        in_features = self.model.classifier.in_features\n",
    "        self.model.classifier = nn.Identity()\n",
    "        self.model.global_pool = nn.Identity()\n",
    "        self.pooling = GeM()\n",
    "        self.linear = nn.Linear(in_features, num_classes)\n",
    "        self.sigmoid = nn.Sigmoid()\n",
    "\n",
    "    def forward(self, images):\n",
    "        features = self.model(images)\n",
    "        pooled_features = self.pooling(features).flatten(1)\n",
    "        output = self.sigmoid(self.linear(pooled_features))\n",
    "        return output\n",
    "    \n",
    "\n",
    "b0_models = []\n",
    "\n",
    "for weight_file in b0_weight_files:\n",
    "    b0_model = ISICModel(CONFIG['model_name'], pretrained=False)\n",
    "    b0_model.load_state_dict(torch.load(weight_file))\n",
    "    b0_model.to(CONFIG['device'])\n",
    "    b0_model.eval()\n",
    "    b0_models.append(b0_model)\n",
    "\n",
    "# model = ISICModel(CONFIG['model_name'], pretrained=False)\n",
    "# model.load_state_dict( torch.load(BEST_WEIGHT) )\n",
    "# model.to(CONFIG['device']);"
   ]
  },
  {
   "cell_type": "code",
   "execution_count": 11,
   "id": "07fd293a",
   "metadata": {
    "execution": {
     "iopub.execute_input": "2024-08-15T19:02:42.869884Z",
     "iopub.status.busy": "2024-08-15T19:02:42.869589Z",
     "iopub.status.idle": "2024-08-15T19:02:42.874264Z",
     "shell.execute_reply": "2024-08-15T19:02:42.873499Z"
    },
    "papermill": {
     "duration": 0.012317,
     "end_time": "2024-08-15T19:02:42.876119",
     "exception": false,
     "start_time": "2024-08-15T19:02:42.863802",
     "status": "completed"
    },
    "tags": []
   },
   "outputs": [
    {
     "name": "stdout",
     "output_type": "stream",
     "text": [
      "Appending to main.py\n"
     ]
    }
   ],
   "source": [
    "%%writefile -a main.py\n",
    "\n",
    "test_dataset = ISICDataset(df, TEST_HDF, transforms=data_transforms[\"valid\"])\n",
    "test_loader = DataLoader(test_dataset, batch_size=CONFIG['valid_batch_size'], \n",
    "                          num_workers=2, shuffle=False, pin_memory=True)"
   ]
  },
  {
   "cell_type": "code",
   "execution_count": 12,
   "id": "503fe217",
   "metadata": {
    "execution": {
     "iopub.execute_input": "2024-08-15T19:02:42.887715Z",
     "iopub.status.busy": "2024-08-15T19:02:42.887433Z",
     "iopub.status.idle": "2024-08-15T19:02:42.892643Z",
     "shell.execute_reply": "2024-08-15T19:02:42.891884Z"
    },
    "papermill": {
     "duration": 0.013153,
     "end_time": "2024-08-15T19:02:42.894659",
     "exception": false,
     "start_time": "2024-08-15T19:02:42.881506",
     "status": "completed"
    },
    "tags": []
   },
   "outputs": [
    {
     "name": "stdout",
     "output_type": "stream",
     "text": [
      "Appending to main.py\n"
     ]
    }
   ],
   "source": [
    "%%writefile -a main.py\n",
    "\n",
    "# Prediction function\n",
    "def predict(models, data_loader):\n",
    "    preds = []\n",
    "    with torch.no_grad():\n",
    "        bar = tqdm(enumerate(data_loader), total=len(data_loader))\n",
    "        for step, data in bar:\n",
    "            images = data['image'].to(CONFIG[\"device\"], dtype=torch.float)\n",
    "            batch_size = images.size(0)\n",
    "            \n",
    "            # Get predictions from all models\n",
    "            batch_preds = []\n",
    "            for model in models:\n",
    "                outputs = model(images)\n",
    "                batch_preds.append(outputs.detach().cpu().numpy())\n",
    "            \n",
    "            # Average predictions\n",
    "            avg_preds = np.mean(batch_preds, axis=0)\n",
    "            preds.append(avg_preds)\n",
    "    \n",
    "    return np.concatenate(preds).flatten()\n",
    "\n",
    "# Get predictions\n",
    "b0_preds = predict(b0_models, test_loader)"
   ]
  },
  {
   "cell_type": "code",
   "execution_count": 13,
   "id": "b5bff440",
   "metadata": {
    "execution": {
     "iopub.execute_input": "2024-08-15T19:02:42.906359Z",
     "iopub.status.busy": "2024-08-15T19:02:42.906132Z",
     "iopub.status.idle": "2024-08-15T19:02:42.910797Z",
     "shell.execute_reply": "2024-08-15T19:02:42.909924Z"
    },
    "papermill": {
     "duration": 0.012631,
     "end_time": "2024-08-15T19:02:42.912714",
     "exception": false,
     "start_time": "2024-08-15T19:02:42.900083",
     "status": "completed"
    },
    "tags": []
   },
   "outputs": [
    {
     "name": "stdout",
     "output_type": "stream",
     "text": [
      "Appending to main.py\n"
     ]
    }
   ],
   "source": [
    "%%writefile -a main.py\n",
    "\n",
    "df_sub[\"target\"] = b0_preds\n",
    "df_sub.to_csv(\"submission.csv\", index=False)"
   ]
  },
  {
   "cell_type": "code",
   "execution_count": 14,
   "id": "aff74f14",
   "metadata": {
    "execution": {
     "iopub.execute_input": "2024-08-15T19:02:42.924766Z",
     "iopub.status.busy": "2024-08-15T19:02:42.924497Z",
     "iopub.status.idle": "2024-08-15T19:02:42.929196Z",
     "shell.execute_reply": "2024-08-15T19:02:42.928321Z"
    },
    "papermill": {
     "duration": 0.012931,
     "end_time": "2024-08-15T19:02:42.931122",
     "exception": false,
     "start_time": "2024-08-15T19:02:42.918191",
     "status": "completed"
    },
    "tags": []
   },
   "outputs": [
    {
     "name": "stdout",
     "output_type": "stream",
     "text": [
      "Appending to main.py\n"
     ]
    }
   ],
   "source": [
    "%%writefile -a main.py\n",
    "\n",
    "df_sub"
   ]
  }
 ],
 "metadata": {
  "kaggle": {
   "accelerator": "gpu",
   "dataSources": [
    {
     "databundleVersionId": 9094797,
     "sourceId": 63056,
     "sourceType": "competition"
    },
    {
     "datasetId": 5452638,
     "sourceId": 9044222,
     "sourceType": "datasetVersion"
    },
    {
     "datasetId": 5474714,
     "sourceId": 9075402,
     "sourceType": "datasetVersion"
    },
    {
     "datasetId": 5478143,
     "sourceId": 9080240,
     "sourceType": "datasetVersion"
    },
    {
     "datasetId": 5548811,
     "sourceId": 9180554,
     "sourceType": "datasetVersion"
    }
   ],
   "dockerImageVersionId": 30747,
   "isGpuEnabled": true,
   "isInternetEnabled": true,
   "language": "python",
   "sourceType": "notebook"
  },
  "kernelspec": {
   "display_name": "Python 3",
   "language": "python",
   "name": "python3"
  },
  "language_info": {
   "codemirror_mode": {
    "name": "ipython",
    "version": 3
   },
   "file_extension": ".py",
   "mimetype": "text/x-python",
   "name": "python",
   "nbconvert_exporter": "python",
   "pygments_lexer": "ipython3",
   "version": "3.10.13"
  },
  "papermill": {
   "default_parameters": {},
   "duration": 3.224552,
   "end_time": "2024-08-15T19:02:43.154177",
   "environment_variables": {},
   "exception": null,
   "input_path": "__notebook__.ipynb",
   "output_path": "__notebook__.ipynb",
   "parameters": {},
   "start_time": "2024-08-15T19:02:39.929625",
   "version": "2.5.0"
  }
 },
 "nbformat": 4,
 "nbformat_minor": 5
}
