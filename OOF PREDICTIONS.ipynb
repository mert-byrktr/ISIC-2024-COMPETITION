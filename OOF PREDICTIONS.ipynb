{
 "cells": [
  {
   "cell_type": "markdown",
   "id": "a52ffd0c",
   "metadata": {
    "papermill": {
     "duration": 0.008436,
     "end_time": "2024-08-15T16:15:03.603910",
     "exception": false,
     "start_time": "2024-08-15T16:15:03.595474",
     "status": "completed"
    },
    "tags": []
   },
   "source": [
    "# <span><h1 style = \"font-family: garamond; font-size: 40px; font-style: normal; letter-spcaing: 3px; background-color: #f6f5f5; color :#fe346e; border-radius: 100px 100px; text-align:center\">Import Required Libraries 📚</h1></span>"
   ]
  },
  {
   "cell_type": "code",
   "execution_count": 1,
   "id": "d13e466e",
   "metadata": {
    "execution": {
     "iopub.execute_input": "2024-08-15T16:15:03.622808Z",
     "iopub.status.busy": "2024-08-15T16:15:03.622309Z",
     "iopub.status.idle": "2024-08-15T16:15:14.526300Z",
     "shell.execute_reply": "2024-08-15T16:15:14.525138Z"
    },
    "papermill": {
     "duration": 10.916919,
     "end_time": "2024-08-15T16:15:14.529339",
     "exception": false,
     "start_time": "2024-08-15T16:15:03.612420",
     "status": "completed"
    },
    "tags": []
   },
   "outputs": [],
   "source": [
    "import os\n",
    "import gc\n",
    "import cv2\n",
    "import math\n",
    "import copy\n",
    "import time\n",
    "import random\n",
    "import glob\n",
    "from matplotlib import pyplot as plt\n",
    "\n",
    "import h5py\n",
    "from PIL import Image\n",
    "from io import BytesIO\n",
    "\n",
    "# For data manipulation\n",
    "import numpy as np\n",
    "import pandas as pd\n",
    "\n",
    "# Pytorch Imports\n",
    "import torch\n",
    "import torch.nn as nn\n",
    "import torch.optim as optim\n",
    "import torch.nn.functional as F\n",
    "from torch.optim import lr_scheduler\n",
    "from torch.utils.data import Dataset, DataLoader\n",
    "from torch.cuda import amp\n",
    "import torchvision\n",
    "\n",
    "# Utils\n",
    "import joblib\n",
    "from tqdm import tqdm\n",
    "from collections import defaultdict\n",
    "\n",
    "# Sklearn Imports\n",
    "from sklearn.preprocessing import LabelEncoder\n",
    "from sklearn.model_selection import StratifiedKFold, StratifiedGroupKFold\n",
    "\n",
    "# For Image Models\n",
    "import timm\n",
    "\n",
    "# Albumentations for augmentations\n",
    "import albumentations as A\n",
    "from albumentations.pytorch import ToTensorV2\n",
    "\n",
    "# For colored terminal text\n",
    "from colorama import Fore, Back, Style\n",
    "b_ = Fore.BLUE\n",
    "sr_ = Style.RESET_ALL\n",
    "\n",
    "import warnings\n",
    "warnings.filterwarnings(\"ignore\")\n",
    "\n",
    "# For descriptive error messages\n",
    "os.environ['CUDA_LAUNCH_BLOCKING'] = \"1\""
   ]
  },
  {
   "cell_type": "markdown",
   "id": "3d08f234",
   "metadata": {
    "papermill": {
     "duration": 0.007931,
     "end_time": "2024-08-15T16:15:14.545575",
     "exception": false,
     "start_time": "2024-08-15T16:15:14.537644",
     "status": "completed"
    },
    "tags": []
   },
   "source": [
    "# <span><h1 style = \"font-family: garamond; font-size: 40px; font-style: normal; letter-spcaing: 3px; background-color: #f6f5f5; color :#fe346e; border-radius: 100px 100px; text-align:center\">Training Configuration ⚙️</h1></span>"
   ]
  },
  {
   "cell_type": "code",
   "execution_count": 2,
   "id": "97cfc738",
   "metadata": {
    "execution": {
     "iopub.execute_input": "2024-08-15T16:15:14.565169Z",
     "iopub.status.busy": "2024-08-15T16:15:14.563790Z",
     "iopub.status.idle": "2024-08-15T16:15:14.636732Z",
     "shell.execute_reply": "2024-08-15T16:15:14.635594Z"
    },
    "papermill": {
     "duration": 0.085287,
     "end_time": "2024-08-15T16:15:14.639457",
     "exception": false,
     "start_time": "2024-08-15T16:15:14.554170",
     "status": "completed"
    },
    "tags": []
   },
   "outputs": [],
   "source": [
    "CONFIG = {\n",
    "    \"seed\": 42,\n",
    "    'epochs': 15,\n",
    "    'n_fold': 5,\n",
    "    'fold': 0,\n",
    "    \"img_size\": 224,\n",
    "    \"model_name\": \"tf_efficientnet_b0_ns\",\n",
    "    'train_batch_size': 64,\n",
    "    \"valid_batch_size\": 64,\n",
    "    \"device\": torch.device(\"cuda:0\" if torch.cuda.is_available() else \"cpu\"),\n",
    "}"
   ]
  },
  {
   "cell_type": "markdown",
   "id": "d3c3e772",
   "metadata": {
    "papermill": {
     "duration": 0.008314,
     "end_time": "2024-08-15T16:15:14.656001",
     "exception": false,
     "start_time": "2024-08-15T16:15:14.647687",
     "status": "completed"
    },
    "tags": []
   },
   "source": [
    "# <span><h1 style = \"font-family: garamond; font-size: 40px; font-style: normal; letter-spcaing: 3px; background-color: #f6f5f5; color :#fe346e; border-radius: 100px 100px; text-align:center\">Set Seed for Reproducibility</h1></span>"
   ]
  },
  {
   "cell_type": "code",
   "execution_count": 3,
   "id": "b68983dc",
   "metadata": {
    "execution": {
     "iopub.execute_input": "2024-08-15T16:15:14.674630Z",
     "iopub.status.busy": "2024-08-15T16:15:14.673632Z",
     "iopub.status.idle": "2024-08-15T16:15:14.684504Z",
     "shell.execute_reply": "2024-08-15T16:15:14.683446Z"
    },
    "papermill": {
     "duration": 0.023179,
     "end_time": "2024-08-15T16:15:14.687257",
     "exception": false,
     "start_time": "2024-08-15T16:15:14.664078",
     "status": "completed"
    },
    "tags": []
   },
   "outputs": [],
   "source": [
    "def set_seed(seed=42):\n",
    "    '''Sets the seed of the entire notebook so results are the same every time we run.\n",
    "    This is for REPRODUCIBILITY.'''\n",
    "    np.random.seed(seed)\n",
    "    torch.manual_seed(seed)\n",
    "    torch.cuda.manual_seed(seed)\n",
    "    # When running on the CuDNN backend, two further options must be set\n",
    "    torch.backends.cudnn.deterministic = True\n",
    "    torch.backends.cudnn.benchmark = False\n",
    "    # Set a fixed value for the hash seed\n",
    "    os.environ['PYTHONHASHSEED'] = str(seed)\n",
    "    \n",
    "set_seed(CONFIG['seed'])"
   ]
  },
  {
   "cell_type": "code",
   "execution_count": 4,
   "id": "2ddf8e89",
   "metadata": {
    "execution": {
     "iopub.execute_input": "2024-08-15T16:15:14.706441Z",
     "iopub.status.busy": "2024-08-15T16:15:14.705480Z",
     "iopub.status.idle": "2024-08-15T16:15:14.711948Z",
     "shell.execute_reply": "2024-08-15T16:15:14.710830Z"
    },
    "papermill": {
     "duration": 0.01854,
     "end_time": "2024-08-15T16:15:14.714406",
     "exception": false,
     "start_time": "2024-08-15T16:15:14.695866",
     "status": "completed"
    },
    "tags": []
   },
   "outputs": [],
   "source": [
    "ROOT_DIR = \"/kaggle/input/isic-2024-challenge\"\n",
    "TRAIN_CSV = f'{ROOT_DIR}/train-metadata.csv'\n",
    "TRAIN_HDF = f'{ROOT_DIR}/train-image.hdf5'\n",
    "SAMPLE = f'{ROOT_DIR}/sample_submission.csv'\n",
    "\n",
    "weight_files = [\n",
    "    \"/kaggle/input/effnetb0-1-50-ratio/pAUC0.1517_Loss0.0085_epoch22_fold0.bin\",\n",
    "    \"/kaggle/input/effnetb0-1-50-ratio/pAUC0.1537_Loss0.0065_epoch24_fold1.bin\",\n",
    "    \"/kaggle/input/effnetb0-1-50-ratio/pAUC0.1734_Loss0.0074_epoch10_fold2.bin\",\n",
    "    \"/kaggle/input/effnetb0-1-50-ratio/pAUC0.1290_Loss0.0069_epoch10_fold3.bin\",\n",
    "    \"/kaggle/input/effnetb0-1-50-ratio/pAUC0.1583_Loss0.0069_epoch24_fold4.bin\"\n",
    "]"
   ]
  },
  {
   "cell_type": "markdown",
   "id": "73f1efb4",
   "metadata": {
    "papermill": {
     "duration": 0.00786,
     "end_time": "2024-08-15T16:15:14.730427",
     "exception": false,
     "start_time": "2024-08-15T16:15:14.722567",
     "status": "completed"
    },
    "tags": []
   },
   "source": [
    "# <h1 style = \"font-family: garamond; font-size: 40px; font-style: normal; letter-spcaing: 3px; background-color: #f6f5f5; color :#fe346e; border-radius: 100px 100px; text-align:center\">Read the Data 📖</h1>"
   ]
  },
  {
   "cell_type": "code",
   "execution_count": 5,
   "id": "89ed9dd5",
   "metadata": {
    "execution": {
     "iopub.execute_input": "2024-08-15T16:15:14.750613Z",
     "iopub.status.busy": "2024-08-15T16:15:14.749687Z",
     "iopub.status.idle": "2024-08-15T16:15:24.926469Z",
     "shell.execute_reply": "2024-08-15T16:15:24.925280Z"
    },
    "papermill": {
     "duration": 10.191185,
     "end_time": "2024-08-15T16:15:24.929831",
     "exception": false,
     "start_time": "2024-08-15T16:15:14.738646",
     "status": "completed"
    },
    "tags": []
   },
   "outputs": [],
   "source": [
    "df = pd.read_csv(TRAIN_CSV)\n",
    "# df['target'] = 0 # dummy"
   ]
  },
  {
   "cell_type": "code",
   "execution_count": 6,
   "id": "8f73f219",
   "metadata": {
    "execution": {
     "iopub.execute_input": "2024-08-15T16:15:24.953837Z",
     "iopub.status.busy": "2024-08-15T16:15:24.952697Z",
     "iopub.status.idle": "2024-08-15T16:15:24.979458Z",
     "shell.execute_reply": "2024-08-15T16:15:24.978306Z"
    },
    "papermill": {
     "duration": 0.041036,
     "end_time": "2024-08-15T16:15:24.982259",
     "exception": false,
     "start_time": "2024-08-15T16:15:24.941223",
     "status": "completed"
    },
    "tags": []
   },
   "outputs": [
    {
     "data": {
      "text/html": [
       "<div>\n",
       "<style scoped>\n",
       "    .dataframe tbody tr th:only-of-type {\n",
       "        vertical-align: middle;\n",
       "    }\n",
       "\n",
       "    .dataframe tbody tr th {\n",
       "        vertical-align: top;\n",
       "    }\n",
       "\n",
       "    .dataframe thead th {\n",
       "        text-align: right;\n",
       "    }\n",
       "</style>\n",
       "<table border=\"1\" class=\"dataframe\">\n",
       "  <thead>\n",
       "    <tr style=\"text-align: right;\">\n",
       "      <th></th>\n",
       "      <th>isic_id</th>\n",
       "      <th>target</th>\n",
       "    </tr>\n",
       "  </thead>\n",
       "  <tbody>\n",
       "    <tr>\n",
       "      <th>0</th>\n",
       "      <td>ISIC_0015657</td>\n",
       "      <td>0.3</td>\n",
       "    </tr>\n",
       "    <tr>\n",
       "      <th>1</th>\n",
       "      <td>ISIC_0015729</td>\n",
       "      <td>0.3</td>\n",
       "    </tr>\n",
       "    <tr>\n",
       "      <th>2</th>\n",
       "      <td>ISIC_0015740</td>\n",
       "      <td>0.3</td>\n",
       "    </tr>\n",
       "  </tbody>\n",
       "</table>\n",
       "</div>"
      ],
      "text/plain": [
       "        isic_id  target\n",
       "0  ISIC_0015657     0.3\n",
       "1  ISIC_0015729     0.3\n",
       "2  ISIC_0015740     0.3"
      ]
     },
     "execution_count": 6,
     "metadata": {},
     "output_type": "execute_result"
    }
   ],
   "source": [
    "df_sub = pd.read_csv(SAMPLE)\n",
    "df_sub"
   ]
  },
  {
   "cell_type": "markdown",
   "id": "33a1f0d6",
   "metadata": {
    "papermill": {
     "duration": 0.008705,
     "end_time": "2024-08-15T16:15:24.999926",
     "exception": false,
     "start_time": "2024-08-15T16:15:24.991221",
     "status": "completed"
    },
    "tags": []
   },
   "source": [
    "# <span><h1 style = \"font-family: garamond; font-size: 40px; font-style: normal; letter-spcaing: 3px; background-color: #f6f5f5; color :#fe346e; border-radius: 100px 100px; text-align:center\">Dataset Class</h1></span>"
   ]
  },
  {
   "cell_type": "code",
   "execution_count": 7,
   "id": "397da12d",
   "metadata": {
    "execution": {
     "iopub.execute_input": "2024-08-15T16:15:25.018846Z",
     "iopub.status.busy": "2024-08-15T16:15:25.018422Z",
     "iopub.status.idle": "2024-08-15T16:15:25.028645Z",
     "shell.execute_reply": "2024-08-15T16:15:25.027696Z"
    },
    "papermill": {
     "duration": 0.02215,
     "end_time": "2024-08-15T16:15:25.031050",
     "exception": false,
     "start_time": "2024-08-15T16:15:25.008900",
     "status": "completed"
    },
    "tags": []
   },
   "outputs": [],
   "source": [
    "class ISICDataset(Dataset):\n",
    "    def __init__(self, df, file_hdf, transforms=None):\n",
    "        self.df = df\n",
    "        self.fp_hdf = h5py.File(file_hdf, mode=\"r\")\n",
    "        self.isic_ids = df['isic_id'].values\n",
    "        self.targets = df['target'].values\n",
    "        self.transforms = transforms\n",
    "        \n",
    "    def __len__(self):\n",
    "        return len(self.isic_ids)\n",
    "    \n",
    "    def __getitem__(self, index):\n",
    "        isic_id = self.isic_ids[index]\n",
    "        img = np.array( Image.open(BytesIO(self.fp_hdf[isic_id][()])) )\n",
    "        target = self.targets[index]\n",
    "        \n",
    "        if self.transforms:\n",
    "            img = self.transforms(image=img)[\"image\"]\n",
    "            \n",
    "        return {\n",
    "            'image': img,\n",
    "            'target': target,\n",
    "        }"
   ]
  },
  {
   "cell_type": "markdown",
   "id": "9f4dac2a",
   "metadata": {
    "papermill": {
     "duration": 0.007744,
     "end_time": "2024-08-15T16:15:25.047112",
     "exception": false,
     "start_time": "2024-08-15T16:15:25.039368",
     "status": "completed"
    },
    "tags": []
   },
   "source": [
    "# <span><h1 style = \"font-family: garamond; font-size: 40px; font-style: normal; letter-spcaing: 3px; background-color: #f6f5f5; color :#fe346e; border-radius: 100px 100px; text-align:center\">Augmentations</h1></span>"
   ]
  },
  {
   "cell_type": "code",
   "execution_count": 8,
   "id": "eff3abac",
   "metadata": {
    "execution": {
     "iopub.execute_input": "2024-08-15T16:15:25.064973Z",
     "iopub.status.busy": "2024-08-15T16:15:25.064539Z",
     "iopub.status.idle": "2024-08-15T16:15:25.071215Z",
     "shell.execute_reply": "2024-08-15T16:15:25.070108Z"
    },
    "papermill": {
     "duration": 0.018439,
     "end_time": "2024-08-15T16:15:25.073417",
     "exception": false,
     "start_time": "2024-08-15T16:15:25.054978",
     "status": "completed"
    },
    "tags": []
   },
   "outputs": [],
   "source": [
    "data_transforms = {\n",
    "    \"valid\": A.Compose([\n",
    "        A.Resize(CONFIG['img_size'], CONFIG['img_size']),\n",
    "        A.Normalize(\n",
    "                mean=[0.485, 0.456, 0.406], \n",
    "                std=[0.229, 0.224, 0.225], \n",
    "                max_pixel_value=255.0, \n",
    "                p=1.0\n",
    "            ),\n",
    "        ToTensorV2()], p=1.)\n",
    "}"
   ]
  },
  {
   "cell_type": "markdown",
   "id": "d5d6f830",
   "metadata": {
    "papermill": {
     "duration": 0.007888,
     "end_time": "2024-08-15T16:15:25.089449",
     "exception": false,
     "start_time": "2024-08-15T16:15:25.081561",
     "status": "completed"
    },
    "tags": []
   },
   "source": [
    "# <span><h1 style = \"font-family: garamond; font-size: 40px; font-style: normal; letter-spcaing: 3px; background-color: #f6f5f5; color :#fe346e; border-radius: 100px 100px; text-align:center\">GeM Pooling</h1></span>"
   ]
  },
  {
   "cell_type": "code",
   "execution_count": 9,
   "id": "f2f48220",
   "metadata": {
    "execution": {
     "iopub.execute_input": "2024-08-15T16:15:25.108822Z",
     "iopub.status.busy": "2024-08-15T16:15:25.107710Z",
     "iopub.status.idle": "2024-08-15T16:15:25.119645Z",
     "shell.execute_reply": "2024-08-15T16:15:25.118370Z"
    },
    "papermill": {
     "duration": 0.02474,
     "end_time": "2024-08-15T16:15:25.122415",
     "exception": false,
     "start_time": "2024-08-15T16:15:25.097675",
     "status": "completed"
    },
    "tags": []
   },
   "outputs": [],
   "source": [
    "class GeM(nn.Module):\n",
    "    def __init__(self, p=3, eps=1e-6):\n",
    "        super(GeM, self).__init__()\n",
    "        self.p = nn.Parameter(torch.ones(1)*p)\n",
    "        self.eps = eps\n",
    "\n",
    "    def forward(self, x):\n",
    "        return self.gem(x, p=self.p, eps=self.eps)\n",
    "        \n",
    "    def gem(self, x, p=3, eps=1e-6):\n",
    "        return F.avg_pool2d(x.clamp(min=eps).pow(p), (x.size(-2), x.size(-1))).pow(1./p)\n",
    "        \n",
    "    def __repr__(self):\n",
    "        return self.__class__.__name__ + \\\n",
    "                '(' + 'p=' + '{:.4f}'.format(self.p.data.tolist()[0]) + \\\n",
    "                ', ' + 'eps=' + str(self.eps) + ')'"
   ]
  },
  {
   "cell_type": "markdown",
   "id": "7255d689",
   "metadata": {
    "papermill": {
     "duration": 0.008095,
     "end_time": "2024-08-15T16:15:25.139074",
     "exception": false,
     "start_time": "2024-08-15T16:15:25.130979",
     "status": "completed"
    },
    "tags": []
   },
   "source": [
    "# <span><h1 style = \"font-family: garamond; font-size: 40px; font-style: normal; letter-spcaing: 3px; background-color: #f6f5f5; color :#fe346e; border-radius: 100px 100px; text-align:center\">Create Model</h1></span>"
   ]
  },
  {
   "cell_type": "code",
   "execution_count": 10,
   "id": "382a00dc",
   "metadata": {
    "execution": {
     "iopub.execute_input": "2024-08-15T16:15:25.157511Z",
     "iopub.status.busy": "2024-08-15T16:15:25.156713Z",
     "iopub.status.idle": "2024-08-15T16:15:27.832969Z",
     "shell.execute_reply": "2024-08-15T16:15:27.831819Z"
    },
    "papermill": {
     "duration": 2.688693,
     "end_time": "2024-08-15T16:15:27.835927",
     "exception": false,
     "start_time": "2024-08-15T16:15:25.147234",
     "status": "completed"
    },
    "tags": []
   },
   "outputs": [],
   "source": [
    "class ISICModel(nn.Module):\n",
    "    def __init__(self, model_name, num_classes=1, pretrained=True, checkpoint_path=None):\n",
    "        super(ISICModel, self).__init__()\n",
    "        self.model = timm.create_model(model_name, pretrained=pretrained, checkpoint_path=checkpoint_path)\n",
    "\n",
    "        in_features = self.model.classifier.in_features\n",
    "        self.model.classifier = nn.Identity()\n",
    "        self.model.global_pool = nn.Identity()\n",
    "        self.pooling = GeM()\n",
    "        self.linear = nn.Linear(in_features, num_classes)\n",
    "        self.sigmoid = nn.Sigmoid()\n",
    "\n",
    "    def forward(self, images):\n",
    "        features = self.model(images)\n",
    "        pooled_features = self.pooling(features).flatten(1)\n",
    "        output = self.sigmoid(self.linear(pooled_features))\n",
    "        return output\n",
    "    \n",
    "models = []\n",
    "\n",
    "# Load all models\n",
    "for weight_file in weight_files:\n",
    "    model = ISICModel(CONFIG['model_name'], pretrained=False)\n",
    "    model.load_state_dict(torch.load(weight_file))\n",
    "    model.to(CONFIG['device'])\n",
    "    model.eval()\n",
    "    models.append(model)"
   ]
  },
  {
   "cell_type": "markdown",
   "id": "9c3212fe",
   "metadata": {
    "papermill": {
     "duration": 0.008013,
     "end_time": "2024-08-15T16:15:27.852210",
     "exception": false,
     "start_time": "2024-08-15T16:15:27.844197",
     "status": "completed"
    },
    "tags": []
   },
   "source": [
    "<span style=\"color: #000508; font-family: Segoe UI; font-size: 1.5em; font-weight: 300;\">Prepare Dataloaders</span>"
   ]
  },
  {
   "cell_type": "code",
   "execution_count": 11,
   "id": "3aa6480f",
   "metadata": {
    "execution": {
     "iopub.execute_input": "2024-08-15T16:15:27.871033Z",
     "iopub.status.busy": "2024-08-15T16:15:27.869941Z",
     "iopub.status.idle": "2024-08-15T16:15:27.877519Z",
     "shell.execute_reply": "2024-08-15T16:15:27.876419Z"
    },
    "papermill": {
     "duration": 0.019614,
     "end_time": "2024-08-15T16:15:27.879925",
     "exception": false,
     "start_time": "2024-08-15T16:15:27.860311",
     "status": "completed"
    },
    "tags": []
   },
   "outputs": [],
   "source": [
    "def save_to_hdf5(df, input_hdf5, output_hdf5):\n",
    "    # Ensure output file is not open\n",
    "    if os.path.exists(output_hdf5):\n",
    "        os.remove(output_hdf5)\n",
    "    \n",
    "    with h5py.File(input_hdf5, \"r\") as inp_file:\n",
    "        with h5py.File(output_hdf5, \"w\") as out_file:\n",
    "            for isic_id in df['isic_id'].values:\n",
    "                img_bytes = inp_file[isic_id][()]\n",
    "                out_file.create_dataset(isic_id, data=img_bytes)\n",
    "\n",
    "\n",
    "VALID_HDF = 'valid.hdf5'"
   ]
  },
  {
   "cell_type": "code",
   "execution_count": 12,
   "id": "9f1a1b17",
   "metadata": {
    "execution": {
     "iopub.execute_input": "2024-08-15T16:15:27.899108Z",
     "iopub.status.busy": "2024-08-15T16:15:27.898087Z",
     "iopub.status.idle": "2024-08-15T16:15:27.931003Z",
     "shell.execute_reply": "2024-08-15T16:15:27.929832Z"
    },
    "papermill": {
     "duration": 0.045083,
     "end_time": "2024-08-15T16:15:27.933464",
     "exception": false,
     "start_time": "2024-08-15T16:15:27.888381",
     "status": "completed"
    },
    "tags": []
   },
   "outputs": [
    {
     "data": {
      "text/html": [
       "<div>\n",
       "<style scoped>\n",
       "    .dataframe tbody tr th:only-of-type {\n",
       "        vertical-align: middle;\n",
       "    }\n",
       "\n",
       "    .dataframe tbody tr th {\n",
       "        vertical-align: top;\n",
       "    }\n",
       "\n",
       "    .dataframe thead th {\n",
       "        text-align: right;\n",
       "    }\n",
       "</style>\n",
       "<table border=\"1\" class=\"dataframe\">\n",
       "  <thead>\n",
       "    <tr style=\"text-align: right;\">\n",
       "      <th></th>\n",
       "      <th>isic_id</th>\n",
       "      <th>target</th>\n",
       "      <th>patient_id</th>\n",
       "      <th>age_approx</th>\n",
       "      <th>sex</th>\n",
       "      <th>anatom_site_general</th>\n",
       "      <th>clin_size_long_diam_mm</th>\n",
       "      <th>image_type</th>\n",
       "      <th>tbp_tile_type</th>\n",
       "      <th>tbp_lv_A</th>\n",
       "      <th>...</th>\n",
       "      <th>lesion_id</th>\n",
       "      <th>iddx_full</th>\n",
       "      <th>iddx_1</th>\n",
       "      <th>iddx_2</th>\n",
       "      <th>iddx_3</th>\n",
       "      <th>iddx_4</th>\n",
       "      <th>iddx_5</th>\n",
       "      <th>mel_mitotic_index</th>\n",
       "      <th>mel_thick_mm</th>\n",
       "      <th>tbp_lv_dnn_lesion_confidence</th>\n",
       "    </tr>\n",
       "  </thead>\n",
       "  <tbody>\n",
       "    <tr>\n",
       "      <th>0</th>\n",
       "      <td>ISIC_0015670</td>\n",
       "      <td>0</td>\n",
       "      <td>IP_1235828</td>\n",
       "      <td>60.0</td>\n",
       "      <td>male</td>\n",
       "      <td>lower extremity</td>\n",
       "      <td>3.04</td>\n",
       "      <td>TBP tile: close-up</td>\n",
       "      <td>3D: white</td>\n",
       "      <td>20.244422</td>\n",
       "      <td>...</td>\n",
       "      <td>NaN</td>\n",
       "      <td>Benign</td>\n",
       "      <td>Benign</td>\n",
       "      <td>NaN</td>\n",
       "      <td>NaN</td>\n",
       "      <td>NaN</td>\n",
       "      <td>NaN</td>\n",
       "      <td>NaN</td>\n",
       "      <td>NaN</td>\n",
       "      <td>97.517282</td>\n",
       "    </tr>\n",
       "    <tr>\n",
       "      <th>1</th>\n",
       "      <td>ISIC_0015845</td>\n",
       "      <td>0</td>\n",
       "      <td>IP_8170065</td>\n",
       "      <td>60.0</td>\n",
       "      <td>male</td>\n",
       "      <td>head/neck</td>\n",
       "      <td>1.10</td>\n",
       "      <td>TBP tile: close-up</td>\n",
       "      <td>3D: white</td>\n",
       "      <td>31.712570</td>\n",
       "      <td>...</td>\n",
       "      <td>IL_6727506</td>\n",
       "      <td>Benign</td>\n",
       "      <td>Benign</td>\n",
       "      <td>NaN</td>\n",
       "      <td>NaN</td>\n",
       "      <td>NaN</td>\n",
       "      <td>NaN</td>\n",
       "      <td>NaN</td>\n",
       "      <td>NaN</td>\n",
       "      <td>3.141455</td>\n",
       "    </tr>\n",
       "    <tr>\n",
       "      <th>2</th>\n",
       "      <td>ISIC_0015864</td>\n",
       "      <td>0</td>\n",
       "      <td>IP_6724798</td>\n",
       "      <td>60.0</td>\n",
       "      <td>male</td>\n",
       "      <td>posterior torso</td>\n",
       "      <td>3.40</td>\n",
       "      <td>TBP tile: close-up</td>\n",
       "      <td>3D: XP</td>\n",
       "      <td>22.575830</td>\n",
       "      <td>...</td>\n",
       "      <td>NaN</td>\n",
       "      <td>Benign</td>\n",
       "      <td>Benign</td>\n",
       "      <td>NaN</td>\n",
       "      <td>NaN</td>\n",
       "      <td>NaN</td>\n",
       "      <td>NaN</td>\n",
       "      <td>NaN</td>\n",
       "      <td>NaN</td>\n",
       "      <td>99.804040</td>\n",
       "    </tr>\n",
       "    <tr>\n",
       "      <th>3</th>\n",
       "      <td>ISIC_0015902</td>\n",
       "      <td>0</td>\n",
       "      <td>IP_4111386</td>\n",
       "      <td>65.0</td>\n",
       "      <td>male</td>\n",
       "      <td>anterior torso</td>\n",
       "      <td>3.22</td>\n",
       "      <td>TBP tile: close-up</td>\n",
       "      <td>3D: XP</td>\n",
       "      <td>14.242329</td>\n",
       "      <td>...</td>\n",
       "      <td>NaN</td>\n",
       "      <td>Benign</td>\n",
       "      <td>Benign</td>\n",
       "      <td>NaN</td>\n",
       "      <td>NaN</td>\n",
       "      <td>NaN</td>\n",
       "      <td>NaN</td>\n",
       "      <td>NaN</td>\n",
       "      <td>NaN</td>\n",
       "      <td>99.989998</td>\n",
       "    </tr>\n",
       "    <tr>\n",
       "      <th>4</th>\n",
       "      <td>ISIC_0024200</td>\n",
       "      <td>0</td>\n",
       "      <td>IP_8313778</td>\n",
       "      <td>55.0</td>\n",
       "      <td>male</td>\n",
       "      <td>anterior torso</td>\n",
       "      <td>2.73</td>\n",
       "      <td>TBP tile: close-up</td>\n",
       "      <td>3D: white</td>\n",
       "      <td>24.725520</td>\n",
       "      <td>...</td>\n",
       "      <td>NaN</td>\n",
       "      <td>Benign</td>\n",
       "      <td>Benign</td>\n",
       "      <td>NaN</td>\n",
       "      <td>NaN</td>\n",
       "      <td>NaN</td>\n",
       "      <td>NaN</td>\n",
       "      <td>NaN</td>\n",
       "      <td>NaN</td>\n",
       "      <td>70.442510</td>\n",
       "    </tr>\n",
       "  </tbody>\n",
       "</table>\n",
       "<p>5 rows × 55 columns</p>\n",
       "</div>"
      ],
      "text/plain": [
       "        isic_id  target  patient_id  age_approx   sex anatom_site_general  \\\n",
       "0  ISIC_0015670       0  IP_1235828        60.0  male     lower extremity   \n",
       "1  ISIC_0015845       0  IP_8170065        60.0  male           head/neck   \n",
       "2  ISIC_0015864       0  IP_6724798        60.0  male     posterior torso   \n",
       "3  ISIC_0015902       0  IP_4111386        65.0  male      anterior torso   \n",
       "4  ISIC_0024200       0  IP_8313778        55.0  male      anterior torso   \n",
       "\n",
       "   clin_size_long_diam_mm          image_type tbp_tile_type   tbp_lv_A  ...  \\\n",
       "0                    3.04  TBP tile: close-up     3D: white  20.244422  ...   \n",
       "1                    1.10  TBP tile: close-up     3D: white  31.712570  ...   \n",
       "2                    3.40  TBP tile: close-up        3D: XP  22.575830  ...   \n",
       "3                    3.22  TBP tile: close-up        3D: XP  14.242329  ...   \n",
       "4                    2.73  TBP tile: close-up     3D: white  24.725520  ...   \n",
       "\n",
       "    lesion_id  iddx_full  iddx_1  iddx_2  iddx_3  iddx_4  iddx_5  \\\n",
       "0         NaN     Benign  Benign     NaN     NaN     NaN     NaN   \n",
       "1  IL_6727506     Benign  Benign     NaN     NaN     NaN     NaN   \n",
       "2         NaN     Benign  Benign     NaN     NaN     NaN     NaN   \n",
       "3         NaN     Benign  Benign     NaN     NaN     NaN     NaN   \n",
       "4         NaN     Benign  Benign     NaN     NaN     NaN     NaN   \n",
       "\n",
       "   mel_mitotic_index  mel_thick_mm  tbp_lv_dnn_lesion_confidence  \n",
       "0                NaN           NaN                     97.517282  \n",
       "1                NaN           NaN                      3.141455  \n",
       "2                NaN           NaN                     99.804040  \n",
       "3                NaN           NaN                     99.989998  \n",
       "4                NaN           NaN                     70.442510  \n",
       "\n",
       "[5 rows x 55 columns]"
      ]
     },
     "execution_count": 12,
     "metadata": {},
     "output_type": "execute_result"
    }
   ],
   "source": [
    "df.head()"
   ]
  },
  {
   "cell_type": "code",
   "execution_count": 13,
   "id": "16cc7826",
   "metadata": {
    "execution": {
     "iopub.execute_input": "2024-08-15T16:15:27.953030Z",
     "iopub.status.busy": "2024-08-15T16:15:27.952578Z",
     "iopub.status.idle": "2024-08-15T16:15:30.446802Z",
     "shell.execute_reply": "2024-08-15T16:15:30.445814Z"
    },
    "papermill": {
     "duration": 2.507494,
     "end_time": "2024-08-15T16:15:30.449501",
     "exception": false,
     "start_time": "2024-08-15T16:15:27.942007",
     "status": "completed"
    },
    "tags": []
   },
   "outputs": [],
   "source": [
    "# N_SPLITS = 5\n",
    "# gkf = StratifiedGroupKFold(n_splits=N_SPLITS, shuffle=True, random_state=42)\n",
    "\n",
    "# df_train[\"fold\"] = -1\n",
    "# for idx, (train_idx, val_idx) in enumerate(gkf.split(df_train, df_train[\"target\"], groups=df_train[\"patient_id\"])):\n",
    "#     df_train.loc[val_idx, \"fold\"] = idx\n",
    "    \n",
    "    \n",
    "\n",
    "sgkf = StratifiedGroupKFold(n_splits=5, shuffle=True, random_state=42)\n",
    "df[\"kfold\"] = -1\n",
    "for fold, (train_idx, val_idx) in enumerate(sgkf.split(df, df.target, groups=df.patient_id)):\n",
    "    df.loc[val_idx, \"kfold\"] = fold"
   ]
  },
  {
   "cell_type": "code",
   "execution_count": 14,
   "id": "0041e43d",
   "metadata": {
    "execution": {
     "iopub.execute_input": "2024-08-15T16:15:30.469995Z",
     "iopub.status.busy": "2024-08-15T16:15:30.469054Z",
     "iopub.status.idle": "2024-08-15T16:15:30.477017Z",
     "shell.execute_reply": "2024-08-15T16:15:30.475960Z"
    },
    "papermill": {
     "duration": 0.020145,
     "end_time": "2024-08-15T16:15:30.478981",
     "exception": false,
     "start_time": "2024-08-15T16:15:30.458836",
     "status": "completed"
    },
    "tags": []
   },
   "outputs": [
    {
     "data": {
      "text/plain": [
       "401054    4\n",
       "401055    3\n",
       "401056    1\n",
       "401057    3\n",
       "401058    0\n",
       "Name: kfold, dtype: int64"
      ]
     },
     "execution_count": 14,
     "metadata": {},
     "output_type": "execute_result"
    }
   ],
   "source": [
    "df['kfold'].tail()"
   ]
  },
  {
   "cell_type": "markdown",
   "id": "a4b2e80b",
   "metadata": {
    "papermill": {
     "duration": 0.007546,
     "end_time": "2024-08-15T16:15:30.494725",
     "exception": false,
     "start_time": "2024-08-15T16:15:30.487179",
     "status": "completed"
    },
    "tags": []
   },
   "source": [
    "<span style=\"color: #000508; font-family: Segoe UI; font-size: 1.5em; font-weight: 300;\">Start Inference</span>"
   ]
  },
  {
   "cell_type": "code",
   "execution_count": 15,
   "id": "424e446b",
   "metadata": {
    "execution": {
     "iopub.execute_input": "2024-08-15T16:15:30.513654Z",
     "iopub.status.busy": "2024-08-15T16:15:30.512661Z",
     "iopub.status.idle": "2024-08-15T16:33:23.386729Z",
     "shell.execute_reply": "2024-08-15T16:33:23.385322Z"
    },
    "papermill": {
     "duration": 1073.218603,
     "end_time": "2024-08-15T16:33:23.721702",
     "exception": false,
     "start_time": "2024-08-15T16:15:30.503099",
     "status": "completed"
    },
    "tags": []
   },
   "outputs": [
    {
     "name": "stdout",
     "output_type": "stream",
     "text": [
      "Fold: 0\n",
      "Total batches in valid_loader: 1112\n"
     ]
    },
    {
     "name": "stderr",
     "output_type": "stream",
     "text": [
      "100%|██████████| 1112/1112 [02:00<00:00,  9.22it/s]\n"
     ]
    },
    {
     "name": "stdout",
     "output_type": "stream",
     "text": [
      "Validation indices for the current fold: [     1      3      4 ... 401051 401052 401058]\n",
      "Assigned predictions for fold 0: [0.11310272 0.07607744 0.07885528 0.12455974 0.04582517 0.09488209\n",
      " 0.04011615 0.45077193 0.01951986 0.2872549 ]\n",
      "Total processed samples across folds: 401059\n",
      "Fold: 1\n",
      "Total batches in valid_loader: 1364\n"
     ]
    },
    {
     "name": "stderr",
     "output_type": "stream",
     "text": [
      "100%|██████████| 1364/1364 [02:18<00:00,  9.82it/s]\n"
     ]
    },
    {
     "name": "stdout",
     "output_type": "stream",
     "text": [
      "Validation indices for the current fold: [    14     15     25 ... 401039 401040 401056]\n",
      "Assigned predictions for fold 1: [0.04177888 0.06273213 0.09936213 0.03112837 0.25753629 0.03823307\n",
      " 0.09420696 0.0574858  0.02376986 0.06771408]\n",
      "Total processed samples across folds: 401059\n",
      "Fold: 2\n",
      "Total batches in valid_loader: 1214\n"
     ]
    },
    {
     "name": "stderr",
     "output_type": "stream",
     "text": [
      "100%|██████████| 1214/1214 [02:14<00:00,  9.04it/s]\n"
     ]
    },
    {
     "name": "stdout",
     "output_type": "stream",
     "text": [
      "Validation indices for the current fold: [     2      8     12 ... 401048 401049 401050]\n",
      "Assigned predictions for fold 2: [0.04394739 0.14159714 0.18218321 0.1087203  0.11780225 0.09254287\n",
      " 0.12195077 0.0874887  0.13089873 0.05417652]\n",
      "Total processed samples across folds: 401059\n",
      "Fold: 3\n",
      "Total batches in valid_loader: 1303\n"
     ]
    },
    {
     "name": "stderr",
     "output_type": "stream",
     "text": [
      "100%|██████████| 1303/1303 [02:17<00:00,  9.47it/s]\n"
     ]
    },
    {
     "name": "stdout",
     "output_type": "stream",
     "text": [
      "Validation indices for the current fold: [     0      6     43 ... 401047 401055 401057]\n",
      "Assigned predictions for fold 3: [0.09282339 0.04861762 0.1033756  0.07535781 0.14564964 0.07135081\n",
      " 0.09662806 0.05274736 0.06386439 0.18290392]\n",
      "Total processed samples across folds: 401059\n",
      "Fold: 4\n",
      "Total batches in valid_loader: 1275\n"
     ]
    },
    {
     "name": "stderr",
     "output_type": "stream",
     "text": [
      "100%|██████████| 1275/1275 [02:16<00:00,  9.33it/s]\n"
     ]
    },
    {
     "name": "stdout",
     "output_type": "stream",
     "text": [
      "Validation indices for the current fold: [     5      9     11 ... 401045 401053 401054]\n",
      "Assigned predictions for fold 4: [0.13725773 0.05724898 0.07836838 0.12246684 0.04991007 0.09034625\n",
      " 0.05380093 0.06132026 0.02535415 0.15617739]\n",
      "Total processed samples across folds: 401059\n",
      "All predictions updated correctly.\n",
      "401059\n",
      "401059\n",
      "OOF Stacking complete. OOF predictions saved to 'oof_predictions.csv'\n"
     ]
    }
   ],
   "source": [
    "oof_predictions = np.zeros(len(df))\n",
    "\n",
    "for fold in range(CONFIG['n_fold']):\n",
    "    print(f\"Fold: {fold}\")\n",
    "    df_train = df[df.kfold != fold].reset_index(drop=True)\n",
    "    # Preserve original indices\n",
    "    df_valid = df[df.kfold == fold]\n",
    "    original_indices = df_valid.index.values  # Store original indices\n",
    "    \n",
    "    # Reset indices for validation data to ensure DataLoader compatibility\n",
    "    df_valid = df_valid.reset_index(drop=True)\n",
    "    save_to_hdf5(df_valid, TRAIN_HDF, VALID_HDF)\n",
    "    valid_dataset = ISICDataset(df_valid, VALID_HDF, transforms=data_transforms[\"valid\"])\n",
    "    \n",
    "    valid_loader = DataLoader(valid_dataset, batch_size=CONFIG['valid_batch_size'],\n",
    "                              num_workers=2, shuffle=False, pin_memory=True)\n",
    "    \n",
    "    print(f\"Total batches in valid_loader: {len(valid_loader)}\")\n",
    "\n",
    "    \n",
    "    model = models[fold]\n",
    "    \n",
    "    fold_predictions = []\n",
    "#     fold_targets = []\n",
    "    \n",
    "    with torch.no_grad():\n",
    "        for data in tqdm(valid_loader, total=len(valid_loader)):\n",
    "            images = data['image'].to(CONFIG['device'], dtype=torch.float)\n",
    "            targets = data['target'].to(CONFIG['device'], dtype=torch.float)\n",
    "            \n",
    "            outputs = model(images).cpu().numpy()\n",
    "            fold_predictions.extend(outputs)\n",
    "            \n",
    "            \n",
    "#             fold_targets.extend(targets.cpu().numpy())\n",
    "            \n",
    "        fold_predictions = np.array(fold_predictions).flatten()\n",
    "#         fold_targets = np.array(fold_targets)\n",
    "            # Ensure predictions match number of validation samples\n",
    "        assert len(fold_predictions) == len(original_indices), \"Mismatch in predictions and validation indices\"\n",
    "\n",
    "        oof_predictions[original_indices] = fold_predictions\n",
    "        print(f\"Validation indices for the current fold: {original_indices}\")\n",
    "        print(f\"Assigned predictions for fold {fold}: {oof_predictions[original_indices][:10]}\")\n",
    "     \n",
    "        total_processed = sum(len(df[df.kfold == fold]) for fold in range(CONFIG['n_fold']))\n",
    "        print(f\"Total processed samples across folds: {total_processed}\")\n",
    "\n",
    "\n",
    "# Final check for zero predictions\n",
    "zero_indices = np.where(oof_predictions == 0)[0]\n",
    "if zero_indices.size > 0:\n",
    "    print(f\"Indices with zero predictions: {zero_indices[:10]}\")  # Print first few zero indices\n",
    "else:\n",
    "    print(\"All predictions updated correctly.\")\n",
    "\n",
    "df['oof_predictions_effnetb0'] = oof_predictions\n",
    "df.to_csv('oof_predictions.csv', index=False)\n",
    "\n",
    "print(len(oof_predictions))\n",
    "print(len(df))\n",
    "\n",
    "print(\"OOF Stacking complete. OOF predictions saved to 'oof_predictions.csv'\")"
   ]
  },
  {
   "cell_type": "code",
   "execution_count": null,
   "id": "22bc7e64",
   "metadata": {
    "papermill": {
     "duration": 0.334955,
     "end_time": "2024-08-15T16:33:24.392311",
     "exception": false,
     "start_time": "2024-08-15T16:33:24.057356",
     "status": "completed"
    },
    "tags": []
   },
   "outputs": [],
   "source": []
  }
 ],
 "metadata": {
  "kaggle": {
   "accelerator": "gpu",
   "dataSources": [
    {
     "databundleVersionId": 9094797,
     "sourceId": 63056,
     "sourceType": "competition"
    },
    {
     "datasetId": 5452638,
     "sourceId": 9044222,
     "sourceType": "datasetVersion"
    },
    {
     "datasetId": 5474714,
     "sourceId": 9075402,
     "sourceType": "datasetVersion"
    },
    {
     "datasetId": 5478143,
     "sourceId": 9080240,
     "sourceType": "datasetVersion"
    },
    {
     "datasetId": 5539954,
     "sourceId": 9168175,
     "sourceType": "datasetVersion"
    },
    {
     "sourceId": 186147615,
     "sourceType": "kernelVersion"
    },
    {
     "sourceId": 189578353,
     "sourceType": "kernelVersion"
    },
    {
     "modelId": 312,
     "modelInstanceId": 2656,
     "sourceId": 3729,
     "sourceType": "modelInstanceVersion"
    }
   ],
   "isGpuEnabled": true,
   "isInternetEnabled": false,
   "language": "python",
   "sourceType": "notebook"
  },
  "kernelspec": {
   "display_name": "Python 3",
   "language": "python",
   "name": "python3"
  },
  "language_info": {
   "codemirror_mode": {
    "name": "ipython",
    "version": 3
   },
   "file_extension": ".py",
   "mimetype": "text/x-python",
   "name": "python",
   "nbconvert_exporter": "python",
   "pygments_lexer": "ipython3",
   "version": "3.10.13"
  },
  "papermill": {
   "default_parameters": {},
   "duration": 1108.365557,
   "end_time": "2024-08-15T16:33:28.474744",
   "environment_variables": {},
   "exception": null,
   "input_path": "__notebook__.ipynb",
   "output_path": "__notebook__.ipynb",
   "parameters": {},
   "start_time": "2024-08-15T16:15:00.109187",
   "version": "2.5.0"
  }
 },
 "nbformat": 4,
 "nbformat_minor": 5
}
